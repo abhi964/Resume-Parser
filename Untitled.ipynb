{
 "cells": [
  {
   "cell_type": "code",
   "execution_count": 1,
   "id": "5d7ac675",
   "metadata": {},
   "outputs": [],
   "source": [
    "import spacy\n",
    "import pandas as pd\n",
    "from spacy import displacy"
   ]
  },
  {
   "cell_type": "code",
   "execution_count": 2,
   "id": "4a58cd0b",
   "metadata": {},
   "outputs": [
    {
     "name": "stderr",
     "output_type": "stream",
     "text": [
      "Deprecation: 'getText' removed from class 'Page' after v1.19.0 - use 'get_text'.\n",
      "mupdf: cannot recognize xref format\n"
     ]
    }
   ],
   "source": [
    "import os\n",
    "import sys,fitz\n",
    "# assign directory\n",
    "directory =\"C:\\\\Users\\\\ABHIRAM\\\\Documents\\\\surge classes\\\\NLTK AND SPACY\\\\Information extraction\\\\Resumes_Collection\"\n",
    "fna=\"C:\\\\Users\\\\ABHIRAM\\\\Documents\\\\surge classes\\\\NLTK AND SPACY\\\\Information extraction\\\\Resume_text\"\n",
    "# iterate over files in\n",
    "# that directory\n",
    "for filename in os.listdir(directory):\n",
    "    if not filename.endswith(\".pdf\"):\n",
    "        continue\n",
    "    f = os.path.join(directory, filename)\n",
    "    # checking if it is a file\n",
    "    if os.path.isfile(f):\n",
    "        doc=fitz.open(f)\n",
    "        text= \"\"\n",
    "        for page in doc:\n",
    "            text=text+str(page.getText())\n",
    "        doc.close()\n",
    "        txt=\" \".join(text.split())\n",
    "        with open(fna+filename[:-3]+'txt', 'w',encoding=\"utf-8\") as f:\n",
    "            f.write(txt)"
   ]
  },
  {
   "cell_type": "code",
   "execution_count": null,
   "id": "4824f87f",
   "metadata": {},
   "outputs": [],
   "source": []
  }
 ],
 "metadata": {
  "kernelspec": {
   "display_name": "Python 3 (ipykernel)",
   "language": "python",
   "name": "python3"
  },
  "language_info": {
   "codemirror_mode": {
    "name": "ipython",
    "version": 3
   },
   "file_extension": ".py",
   "mimetype": "text/x-python",
   "name": "python",
   "nbconvert_exporter": "python",
   "pygments_lexer": "ipython3",
   "version": "3.9.7"
  }
 },
 "nbformat": 4,
 "nbformat_minor": 5
}
