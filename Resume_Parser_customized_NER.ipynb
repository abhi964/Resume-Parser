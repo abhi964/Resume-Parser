{
 "cells": [
  {
   "cell_type": "code",
   "execution_count": 2,
   "id": "cd248279",
   "metadata": {},
   "outputs": [],
   "source": [
    "import numpy as np # linear algebra\n",
    "import pandas as pd # data processing, CSV file I/O (e.g. pd.read_csv)\n",
    "import spacy\n",
    "import pickle\n",
    "import random"
   ]
  },
  {
   "cell_type": "code",
   "execution_count": 3,
   "id": "a1664ca0",
   "metadata": {},
   "outputs": [
    {
     "data": {
      "text/plain": [
       "('Govardhana K Senior Software Engineer  Bengaluru, Karnataka, Karnataka - Email me on Indeed: indeed.com/r/Govardhana-K/ b2de315d95905b68  Total IT experience 5 Years 6 Months Cloud Lending Solutions INC 4 Month • Salesforce Developer Oracle 5 Years 2 Month • Core Java Developer Languages Core Java, Go Lang Oracle PL-SQL programming, Sales Force Developer with APEX.  Designations & Promotions  Willing to relocate: Anywhere  WORK EXPERIENCE  Senior Software Engineer  Cloud Lending Solutions -  Bangalore, Karnataka -  January 2018 to Present  Present  Senior Consultant  Oracle -  Bangalore, Karnataka -  November 2016 to December 2017  Staff Consultant  Oracle -  Bangalore, Karnataka -  January 2014 to October 2016  Associate Consultant  Oracle -  Bangalore, Karnataka -  November 2012 to December 2013  EDUCATION  B.E in Computer Science Engineering  Adithya Institute of Technology -  Tamil Nadu  September 2008 to June 2012  https://www.indeed.com/r/Govardhana-K/b2de315d95905b68?isid=rex-download&ikw=download-top&co=IN https://www.indeed.com/r/Govardhana-K/b2de315d95905b68?isid=rex-download&ikw=download-top&co=IN   SKILLS  APEX. (Less than 1 year), Data Structures (3 years), FLEXCUBE (5 years), Oracle (5 years), Algorithms (3 years)  LINKS  https://www.linkedin.com/in/govardhana-k-61024944/  ADDITIONAL INFORMATION  Technical Proficiency:  Languages: Core Java, Go Lang, Data Structures & Algorithms, Oracle PL-SQL programming, Sales Force with APEX. Tools: RADTool, Jdeveloper, NetBeans, Eclipse, SQL developer, PL/SQL Developer, WinSCP, Putty Web Technologies: JavaScript, XML, HTML, Webservice  Operating Systems: Linux, Windows Version control system SVN & Git-Hub Databases: Oracle Middleware: Web logic, OC4J Product FLEXCUBE: Oracle FLEXCUBE Versions 10.x, 11.x and 12.x  https://www.linkedin.com/in/govardhana-k-61024944/',\n",
       " {'entities': [(1749, 1755, 'Companies worked at'),\n",
       "   (1696, 1702, 'Companies worked at'),\n",
       "   (1417, 1423, 'Companies worked at'),\n",
       "   (1356, 1793, 'Skills'),\n",
       "   (1209, 1215, 'Companies worked at'),\n",
       "   (1136, 1248, 'Skills'),\n",
       "   (928, 932, 'Graduation Year'),\n",
       "   (858, 889, 'College Name'),\n",
       "   (821, 856, 'Degree'),\n",
       "   (787, 791, 'Graduation Year'),\n",
       "   (744, 750, 'Companies worked at'),\n",
       "   (722, 742, 'Designation'),\n",
       "   (658, 664, 'Companies worked at'),\n",
       "   (640, 656, 'Designation'),\n",
       "   (574, 580, 'Companies worked at'),\n",
       "   (555, 573, 'Designation'),\n",
       "   (470, 493, 'Companies worked at'),\n",
       "   (444, 469, 'Designation'),\n",
       "   (308, 314, 'Companies worked at'),\n",
       "   (234, 240, 'Companies worked at'),\n",
       "   (175, 198, 'Companies worked at'),\n",
       "   (93, 137, 'Email Address'),\n",
       "   (39, 48, 'Location'),\n",
       "   (13, 38, 'Designation'),\n",
       "   (0, 12, 'Name')]})"
      ]
     },
     "execution_count": 3,
     "metadata": {},
     "output_type": "execute_result"
    }
   ],
   "source": [
    "train_data = pickle.load(open('train_data.pkl','rb'))\n",
    "train_data[0]"
   ]
  },
  {
   "cell_type": "code",
   "execution_count": 4,
   "id": "1fccaeea",
   "metadata": {},
   "outputs": [],
   "source": [
    "nlp=spacy.blank('en')\n",
    "def train_model(train_data):\n",
    "    if 'ner' not in nlp.pipe_names: # Adding pipeline\n",
    "        ner=nlp.create_pipe('ner')\n",
    "        nlp.add_pipe(ner,last=True)\n",
    "    #adding the labels to the pipe\n",
    "    for _, annotation in train_data: # train_data=[[text],[entities]]\n",
    "        for ent in annotation.get('entities'):\n",
    "            ner.add_label(ent[2])\n",
    "    other_pipes = [pipe for pipe in nlp.pipe_names if pipe != 'ner' ]\n",
    "    with nlp.disable_pipes(*other_pipes):\n",
    "        optimizer=nlp.begin_training()\n",
    "        for itn in range(13):\n",
    "            print(\"Starting the iteration\"+str(itn))\n",
    "            random.shuffle(train_data)\n",
    "            losses={}\n",
    "            index=0\n",
    "            for  text, annotations in train_data:\n",
    "                try:\n",
    "                    nlp.update([text],[annotations],drop=0.,sgd=optimizer,losses=losses)\n",
    "                except Exception as e:\n",
    "                    pass\n",
    "                    \n",
    "            print(losses)\n",
    "        "
   ]
  },
  {
   "cell_type": "code",
   "execution_count": 63,
   "id": "f3989ab6",
   "metadata": {},
   "outputs": [
    {
     "name": "stdout",
     "output_type": "stream",
     "text": [
      "Starting the iteration0\n",
      "{'ner': 13536.628710142655}\n",
      "Starting the iteration1\n",
      "{'ner': 8658.723083039908}\n",
      "Starting the iteration2\n",
      "{'ner': 7039.822729751585}\n",
      "Starting the iteration3\n",
      "{'ner': 8816.194624620679}\n",
      "Starting the iteration4\n",
      "{'ner': 8790.406429329503}\n",
      "Starting the iteration5\n",
      "{'ner': 10455.598156333832}\n",
      "Starting the iteration6\n",
      "{'ner': 7500.58983196209}\n",
      "Starting the iteration7\n",
      "{'ner': 7928.334835386611}\n",
      "Starting the iteration8\n",
      "{'ner': 7019.053412905789}\n",
      "Starting the iteration9\n",
      "{'ner': 7184.341221565233}\n",
      "Starting the iteration10\n",
      "{'ner': 6881.921308197602}\n",
      "Starting the iteration11\n",
      "{'ner': 7423.540099584418}\n",
      "Starting the iteration12\n",
      "{'ner': 6108.771397137393}\n"
     ]
    }
   ],
   "source": [
    "train_model(train_data)"
   ]
  },
  {
   "cell_type": "code",
   "execution_count": 64,
   "id": "d0aeb1f3",
   "metadata": {},
   "outputs": [],
   "source": [
    "nlp.to_disk('nlp_ner_model')"
   ]
  },
  {
   "cell_type": "code",
   "execution_count": 65,
   "id": "b9637c4e",
   "metadata": {},
   "outputs": [],
   "source": [
    "nlp_model=spacy.load('nlp_ner_model')"
   ]
  },
  {
   "cell_type": "code",
   "execution_count": null,
   "id": "4f954b24",
   "metadata": {},
   "outputs": [],
   "source": [
    "{'entities': [(6861, 6870, 'Companies worked at'),\n",
    "   (6305, 7258, 'Skills'),\n",
    "   (6267, 6290, 'College Name'),\n",
    "   (6250, 6254, 'Graduation Year'),\n",
    "   (6213, 6249, 'College Name'),\n",
    "   (6196, 6200, 'Graduation Year'),\n",
    "   (6152, 6169, 'College Name'),\n",
    "   (6117, 6151, 'Degree'),\n",
    "   (6062, 6071, 'Companies worked at'),\n",
    "   (5892, 5901, 'Companies worked at'),\n",
    "   (3029, 3033, 'Graduation Year'),\n",
    "   (3000, 3009, 'Location'),\n",
    "   (2987, 2996, 'Companies worked at'),\n",
    "   (2962, 2985, 'Designation'),\n",
    "   (1330, 1339, 'Location'),\n",
    "   (1317, 1326, 'Companies worked at'),\n",
    "   (1292, 1315, 'Designation'),\n",
    "   (94, 138, 'Email Address'),\n",
    "   (51, 60, 'Location'),\n",
    "   (40, 49, 'Companies worked at'),\n",
    "   (14, 37, 'Designation'),\n",
    "   (0, 13, 'Name')]})"
   ]
  },
  {
   "cell_type": "code",
   "execution_count": 66,
   "id": "91509156",
   "metadata": {},
   "outputs": [
    {
     "name": "stdout",
     "output_type": "stream",
     "text": [
      "NAME                          -Manjari Singh\n",
      "DESIGNATION                   -Senior Software Analyst\n",
      "DESIGNATION                   -Accenture\n",
      "LOCATION                      -Bengaluru\n",
      "EMAIL ADDRESS                 -indeed.com/r/Manjari-Singh/fd072d33991401f0\n",
      "DESIGNATION                   -Senior Software Analyst\n",
      "COMPANIES WORKED AT           -Accenture -\n",
      "LOCATION                      -Bengaluru\n",
      "DESIGNATION                   -Senior Software Analyst\n",
      "COMPANIES WORKED AT           -Accenture -\n",
      "LOCATION                      -Bengaluru\n",
      "GRADUATION YEAR               -2016\n",
      "DEGREE                        -B.TECH. in Information Technology\n",
      "COLLEGE NAME                  -Amity University\n",
      "SKILLS                        -QA (7 years), TESTING (6 years), ESTIMATION (6 years), AMDOCS (Less than 1 year), BILLING (Less than 1 year)  ADDITIONAL INFORMATION  SKILLS AND COMPETENCIES Domain and Functional Expertise Tools and Languages: • Telecommunications and IPTV Systems • NetCracker, NetProvision, Insight (IISY), HDM (Nokia), Trouble Ticketing • Test/QA Lead • Click Schedule, FieldLink, AMDOCS-Ordering, Billing - Product Catalog • Project Management • IBM - TOCP, Mediaroom, MediaFirst TV3 platform (Ericsson) • Software Testing and Defect Management • HP QC 10, JIRA, TDP, Accenture Test Estimation Tool • Lead to Order and Order to Cash Management • Caliber RM (Requirement Gathering), Confluence, Clear Quest • Service Provisioning and Activation • Worksoft Certify, QTP, Java, Selenium, SQL, HTML, XML • Business Analysis (Requirement Management) • Splunk, WinSCP, SOAP UI, Kibana, Wireshark • Automation • Proficiency in MS Office (Word, Excel, PowerPoint and Visio)\n"
     ]
    }
   ],
   "source": [
    "doc=nlp_model(train_data[0][0])\n",
    "for ent in doc.ents:\n",
    "    print(f'{ent.label_.upper():{30}}-{ent.text}')"
   ]
  },
  {
   "cell_type": "code",
   "execution_count": 71,
   "id": "a72816f3",
   "metadata": {},
   "outputs": [
    {
     "name": "stdout",
     "output_type": "stream",
     "text": [
      "NAME                          -ADITYA SHARMA\n",
      "DESIGNATION                   -2022 (\n",
      "GRADUATION YEAR               -2016\n"
     ]
    }
   ],
   "source": [
    "doc=nlp_model(txt)\n",
    "for ent in doc.ents:\n",
    "    print(f'{ent.label_.upper():{30}}-{ent.text}')"
   ]
  },
  {
   "cell_type": "code",
   "execution_count": 6,
   "id": "7309d580",
   "metadata": {},
   "outputs": [
    {
     "name": "stdout",
     "output_type": "stream",
     "text": [
      "Collecting PyMuPDF\n",
      "  Downloading PyMuPDF-1.19.6-cp39-cp39-win_amd64.whl (6.4 MB)\n",
      "Installing collected packages: PyMuPDF\n",
      "Successfully installed PyMuPDF-1.19.6\n"
     ]
    }
   ],
   "source": [
    "!pip install PyMuPDF"
   ]
  },
  {
   "cell_type": "code",
   "execution_count": 8,
   "id": "eef1a401",
   "metadata": {},
   "outputs": [
    {
     "data": {
      "text/plain": [
       "('Govardhana K Senior Software Engineer  Bengaluru, Karnataka, Karnataka - Email me on Indeed: indeed.com/r/Govardhana-K/ b2de315d95905b68  Total IT experience 5 Years 6 Months Cloud Lending Solutions INC 4 Month • Salesforce Developer Oracle 5 Years 2 Month • Core Java Developer Languages Core Java, Go Lang Oracle PL-SQL programming, Sales Force Developer with APEX.  Designations & Promotions  Willing to relocate: Anywhere  WORK EXPERIENCE  Senior Software Engineer  Cloud Lending Solutions -  Bangalore, Karnataka -  January 2018 to Present  Present  Senior Consultant  Oracle -  Bangalore, Karnataka -  November 2016 to December 2017  Staff Consultant  Oracle -  Bangalore, Karnataka -  January 2014 to October 2016  Associate Consultant  Oracle -  Bangalore, Karnataka -  November 2012 to December 2013  EDUCATION  B.E in Computer Science Engineering  Adithya Institute of Technology -  Tamil Nadu  September 2008 to June 2012  https://www.indeed.com/r/Govardhana-K/b2de315d95905b68?isid=rex-download&ikw=download-top&co=IN https://www.indeed.com/r/Govardhana-K/b2de315d95905b68?isid=rex-download&ikw=download-top&co=IN   SKILLS  APEX. (Less than 1 year), Data Structures (3 years), FLEXCUBE (5 years), Oracle (5 years), Algorithms (3 years)  LINKS  https://www.linkedin.com/in/govardhana-k-61024944/  ADDITIONAL INFORMATION  Technical Proficiency:  Languages: Core Java, Go Lang, Data Structures & Algorithms, Oracle PL-SQL programming, Sales Force with APEX. Tools: RADTool, Jdeveloper, NetBeans, Eclipse, SQL developer, PL/SQL Developer, WinSCP, Putty Web Technologies: JavaScript, XML, HTML, Webservice  Operating Systems: Linux, Windows Version control system SVN & Git-Hub Databases: Oracle Middleware: Web logic, OC4J Product FLEXCUBE: Oracle FLEXCUBE Versions 10.x, 11.x and 12.x  https://www.linkedin.com/in/govardhana-k-61024944/',\n",
       " {'entities': [(1749, 1755, 'Companies worked at'),\n",
       "   (1696, 1702, 'Companies worked at'),\n",
       "   (1417, 1423, 'Companies worked at'),\n",
       "   (1356, 1793, 'Skills'),\n",
       "   (1209, 1215, 'Companies worked at'),\n",
       "   (1136, 1248, 'Skills'),\n",
       "   (928, 932, 'Graduation Year'),\n",
       "   (858, 889, 'College Name'),\n",
       "   (821, 856, 'Degree'),\n",
       "   (787, 791, 'Graduation Year'),\n",
       "   (744, 750, 'Companies worked at'),\n",
       "   (722, 742, 'Designation'),\n",
       "   (658, 664, 'Companies worked at'),\n",
       "   (640, 656, 'Designation'),\n",
       "   (574, 580, 'Companies worked at'),\n",
       "   (555, 573, 'Designation'),\n",
       "   (470, 493, 'Companies worked at'),\n",
       "   (444, 469, 'Designation'),\n",
       "   (308, 314, 'Companies worked at'),\n",
       "   (234, 240, 'Companies worked at'),\n",
       "   (175, 198, 'Companies worked at'),\n",
       "   (93, 137, 'Email Address'),\n",
       "   (39, 48, 'Location'),\n",
       "   (13, 38, 'Designation'),\n",
       "   (0, 12, 'Name')]})"
      ]
     },
     "execution_count": 8,
     "metadata": {},
     "output_type": "execute_result"
    }
   ],
   "source": [
    "train_data[0]"
   ]
  },
  {
   "cell_type": "code",
   "execution_count": 27,
   "id": "28f0c723",
   "metadata": {},
   "outputs": [],
   "source": [
    "nlp1 = spacy.load('en_core_web_sm')"
   ]
  },
  {
   "cell_type": "code",
   "execution_count": 105,
   "id": "8ed885c6",
   "metadata": {},
   "outputs": [],
   "source": [
    "training_data=[]"
   ]
  },
  {
   "cell_type": "code",
   "execution_count": 104,
   "id": "a3ec5b96",
   "metadata": {},
   "outputs": [
    {
     "data": {
      "text/plain": [
       "233"
      ]
     },
     "execution_count": 104,
     "metadata": {},
     "output_type": "execute_result"
    }
   ],
   "source": [
    "txt.index('Addr')"
   ]
  },
  {
   "cell_type": "code",
   "execution_count": 21,
   "id": "5064ff03",
   "metadata": {},
   "outputs": [
    {
     "data": {
      "text/plain": [
       "\"ADITYA SHARMA SKILLS Programming Languages: Java, C Tools: Anaconda, Android Studio, Arduino IDE, Proteus CONTACT INFORMATION Mobile: +91-9999386235 Email: aditya25dec2000@gmail.com Linkedin: linkedin.com/in/aditya-sharma-331321192/ Address: Patel Hostel, MNNIT Allahabad,Prayagraj, U.P. AREA OF INTEREST Machine Learning Android Development Robotics PROJECTS March 2019 A simple line following and wall following bot which follows given a line strip using IRSensors and follow a wall using ultrasonic sensors and Arduino Mega IARC bot September 2019 A smart table fan and light based on Atmega32A microcontroller which takes readings using LM35 sensor and LDR and automatically controls fan speed and light intensity. SMART FAN AND LIGHT ACADEMIC HISTORY CGPA - 8.1 BTECH. ELECTRONICS AND COMMUNICATION ENGINEERING - 2022 (EXPECTED) MNNIT Allahabad Percentage - 97.6% CLASS XII (CBSE) - 2018 Children's Academy (Ghaziabad) MNNIT Allahabad Children's Academy (Ghaziabad) CLASS X (CBSE) - 2016 CGPA - 10 ACHIEVEMENTS Runner up in Embedded Avishkar 2019 Participated in IARC challenge in Techkriti 2018 Participated in Quadcopter event in Avishkar 2018 EXTRA-CURRICULAR ACTIVITIES Photography Photo editing\""
      ]
     },
     "execution_count": 21,
     "metadata": {},
     "output_type": "execute_result"
    }
   ],
   "source": [
    "aditya_txt"
   ]
  },
  {
   "cell_type": "code",
   "execution_count": 43,
   "id": "b5d12990",
   "metadata": {},
   "outputs": [
    {
     "data": {
      "text/plain": [
       "'Anjali Choudhary To succeed in an environment of growth and excellence and earn a job which provides me job satisfaction and self-development and help me achieve personal as well as organization goals. anjali12.ins@gmail.com 9945313337 Bangalore, India github.com/anjalinagel12 EDUCATION 08/2015 – 05/2019 Bachelor of Engineering Siddaganga Institute Of Technology Tumkur, Karnataka Information Science and Engineering WORK EXPERIENCE Analog Devices (06/2019 – Present) Deep Learning intern Real time video analysis using Deep Learning TechTwigs Technologies (06/2018 – 07/2018) Data Science intern KYC Document Classiﬁer using fast.ai library and with 99% accuracy PROJECTS UNDERTAKEN 08/2018 – 05/2019 Major Project Smart Eye for visually disabled people using Deep Learning and Computer Vision A picture clicked by the blind person using the camera placed on his spectacle generates a caption using CNN and LSTM algorithm. The generated caption is then converted to voice using text-to-speech module.The blind person can hear what is happening in his surrounding by the picture clicked by him. 08/2017 – 05/2018 Mini Project Book Recommendation System using Machine Learning A Book Recommendation System which recommends books on basis of previous history of a user using k- Nearest Neighbour algorithm. 01/2018 – 03/2018 Udacity bootcamp project Boston Housing prediction Prediction of houses depending on various parameters using Decision Tree algorithm SKILLS Deep Learning Machine Learning fast.ai Pandas Numpy Matplotlib Python C C++ Data Structures Algorithms NLP Prediction Classiﬁcation Clustering CERTIFICATES * Udacity Machine Learning nanodegree (01/2018 – 04/2018) * Udemy complete Python Bootcamp course (05/2017 – 06/2017) * Team member of DeCoders- a Programming Club of SIT (03/2016 – Present) * PyTorch Facebook Udacity scholar (10/2018 – 02/2019) ACHIEVEMENTS * Best Major Project award (Final Year Project) 2019 Smart Eye for Visually disabled people using Deep Learning * 1st prize in ROBOTHON- 8 hour Hackathon 2019 Smart Eye for Visually disabled people using Deep Learning * 2nd prize in Hobby Project Presentation- TECHNISUM 2019 * 2nd prize in Code For Good- 24 hour Hackathon 2018 hosted by JP Morgan Chase INTERESTS Coding Reading Books Problem Solving Analytical Thinking CGPA : 8.44'"
      ]
     },
     "execution_count": 43,
     "metadata": {},
     "output_type": "execute_result"
    }
   ],
   "source": [
    "txt_anjali"
   ]
  },
  {
   "cell_type": "code",
   "execution_count": 53,
   "id": "1606e820",
   "metadata": {},
   "outputs": [
    {
     "data": {
      "text/plain": [
       "'Made with Standard Resume Learn more Work Experience Data Scientist Fokal AI Jan, 2020 - Current Projects: 1.) NLP Text Classi�cation, Emotions Classi�cation in customer reviews using customized models with model result text explainability. Done word embeddings, sentiment analysis. 2.) Build custom, multiclass classi�cation models, for automatic bidding of television ad slots, Data Analysis, engineering, predictions, and time series analysis. 3.) Data Studio Dashboards for company jobs analysis, college reviews, zip codes 360° providing a complete 360° data analysis and information. 4.) Worked on Data, Model explanation products, which provides the user ability to analyze data, build models, and get model explainability. Personal Projects Developer NLP Chatbot Oct, 2020 - Nov, 2020 NLP Chatbot build from scratch with voice feature using TensorFlow, It is based on Seq2Seq architecture. The Architecture contains encoders and decoders which are LSTMs. Developer My Health( AI Website ) May, 2019 - Apr, 2020 Ai website build using the Django web framework in which the user can predict their health condition, with high accuracy. This website predicts Pneumonia, Malaria, Diabetes. Users just need to upload the desired image and the deep learning model will predict for example pneumonia or normal condition. App Developer Gupta Stationery (Startup) Jun, 2019 - Jul, 2019 The o�cial app of Gupta Stationery where you can order stationery items very easily and get it delivered to your house. There are plenty of stationery items to choose from. All items are available at the best prices. Developer Face recognition Sep, 2018 - Sep, 2018 The model performs face recognition and it also detects faces by using open cv. Face recognition is done by using neural networks Software section Projector control using hand gestures Apr, 2019 - Apr, 2019 n this projector is controlled using different hand gestures. It uses computer vision. Django developer ProTrade website Oct, 2018 - Nov, 2018 Website for buying and selling old items. Users can also exchange their items with other items having a similar price. Education Bachelor of Technology - BTech, Electrical, Electronics and Communications Engineering, (7.5 CGPA) CMR Institute Of Technology 2016 - 2020 CBSE 12th board, Science, 91% Dav Public School, Bokaro 2014 - 2016 10th ICSE board, Science, 89% Carmel Convent School 2002 - 2014 Achievements 1.) Published IEEE Research Paper: Automatic Braking System for Two Wheeler with Object Detection and Depth Perception 2.) 4th position in SOCIAL HACKATHON (80 TEAMS): Created a whole network of waste banks with apps and smart dustbins. 3.) FKCCI MANTHAN 2019 STARTUP(TOP 10 ): Created a low-cost timer socket. 4.) Hardware hackathon(2ND POSITION): Projector control using hand gestures. 5.) Apps in Google Play Store: Gupta Stationery, Protrade, QR code scanner, Knowledge gate Skills MACHINE LEARNING - Python, Data analysis, Tensor�ow, NLP. DEEP LEARNING - Image processing, Computer Vision, Neural networks. ANDROID DEVELOPMENT - Java, Android studio, Google �rebase, SQL WEB DEVELOMENT - Python, Django. Vipul Kumar Gupta Data Scientist Bengaluru, Karnataka http://vipulkumargupta.pythonanywhere. com/ vipulkumargupta520@gmail.com 8002554322 ML AI Enthusiast Made with Standard Resume Learn more Work Experience Data Scientist Fokal AI Jan, 2020 - Current Projects: 1.) NLP Text Classi�cation, Emotions Classi�cation in customer reviews using customized models with model result text explainability. Done word embeddings, sentiment analysis. 2.) Build custom, multiclass classi�cation models, for automatic bidding of television ad slots, Data Analysis, engineering, predictions, and time series analysis. 3.) Data Studio Dashboards for company jobs analysis, college reviews, zip codes 360° providing a complete 360° data analysis and information. 4.) Worked on Data, Model explanation products, which provides the user ability to analyze data, build models, and get model explainability. Personal Projects Developer NLP Chatbot Oct, 2020 - Nov, 2020 NLP Chatbot build from scratch with voice feature using TensorFlow, It is based on Seq2Seq architecture. The Architecture contains encoders and decoders which are LSTMs. Developer My Health( AI Website ) May, 2019 - Apr, 2020 Ai website build using the Django web framework in which the user can predict their health condition, with high accuracy. This website predicts Pneumonia, Malaria, Diabetes. Users just need to upload the desired image and the deep learning model will predict for example pneumonia or normal condition. App Developer Gupta Stationery (Startup) Jun, 2019 - Jul, 2019 The o�cial app of Gupta Stationery where you can order stationery items very easily and get it delivered to your house. There are plenty of stationery items to choose from. All items are available at the best prices. Developer Face recognition Sep, 2018 - Sep, 2018 The model performs face recognition and it also detects faces by using open cv. Face recognition is done by using neural networks Software section Projector control using hand gestures Apr, 2019 - Apr, 2019 n this projector is controlled using different hand gestures. It uses computer vision. Django developer ProTrade website Oct, 2018 - Nov, 2018 Website for buying and selling old items. Users can also exchange their items with other items having a similar price. Education Bachelor of Technology - BTech, Electrical, Electronics and Communications Engineering, (7.5 CGPA) CMR Institute Of Technology 2016 - 2020 CBSE 12th board, Science, 91% Dav Public School, Bokaro 2014 - 2016 10th ICSE board, Science, 89% Carmel Convent School 2002 - 2014 Achievements 1.) Published IEEE Research Paper: Automatic Braking System for Two Wheeler with Object Detection and Depth Perception 2.) 4th position in SOCIAL HACKATHON (80 TEAMS): Created a whole network of waste banks with apps and smart dustbins. 3.) FKCCI MANTHAN 2019 STARTUP(TOP 10 ): Created a low-cost timer socket. 4.) Hardware hackathon(2ND POSITION): Projector control using hand gestures. 5.) Apps in Google Play Store: Gupta Stationery, Protrade, QR code scanner, Knowledge gate Skills MACHINE LEARNING - Python, Data analysis, Tensor�ow, NLP. DEEP LEARNING - Image processing, Computer Vision, Neural networks. ANDROID DEVELOPMENT - Java, Android studio, Google �rebase, SQL WEB DEVELOMENT - Python, Django. Vipul Kumar Gupta Data Scientist Bengaluru, Karnataka http://vipulkumargupta.pythonanywhere. com/ vipulkumargupta520@gmail.com 8002554322 ML AI Enthusiast'"
      ]
     },
     "execution_count": 53,
     "metadata": {},
     "output_type": "execute_result"
    }
   ],
   "source": [
    "txt_vipul"
   ]
  },
  {
   "cell_type": "code",
   "execution_count": 92,
   "id": "bb548d77",
   "metadata": {},
   "outputs": [
    {
     "data": {
      "text/plain": [
       "'Karimulla Shaik Principal Engineer E-Mail: kareem.shk21@gmail.com www.linkedin.com/in/kareem-shaik-b4803535 Phone: +91-98801-76978 Summary: A Machine Learning and Deep Learning expert passionate about cutting-edge technology and solving real world problems, with over a decade of experience in complete cycle of Research to Market of solutions for mobile and IoT applications Profile: ✓ 13+ years of experience in Machine learning, Deep learning model building and Signal/Image processing and vision with hands-on ✓ Excellent in research to commercialization of solutions in field of Computer vision, Touch sensing and Multimedia ✓ Outstanding knowledge in all modalities in multimedia such as video/image/speech/audio processing ✓ Exceptional knowledge of DSP architectures, S/W Engineering, firmware development and optimization Educational Qualification: Qualification Institute/University Percentage of Marks/CGPA Year of Pass Nano Degrees Deep Learning (Udacity), Computer Vision (Udacity) NA 2018 M. Tech. (Comm. Systems) Indian Institute of Technology, (IIT) Madras 8.05/10 2005 B.Tech (ECE) Nagarjuna University, A.P. 75.3% 2003 Technical Skills: Domain knowledge Machine learning, Deep learning, Pattern classification, Computer vision, Image/video processing, Digital signal processing Applications experience Data analytics, Computer vision, Touch sensing, Multimedia Libraries NumPy, SciPy, Scikit-learn, OpenCV, Tensorflow, PyTorch High Level Programming languages C, Matlab, Scilab, Octave, Python, R Video IPs Architectures & Processors DM365, DM368, MFC, ARM9E/11, C64x Certifications: ✓ The Complete Self-Driving Car Course - Applied Deep Learning (Udemy: In progress) ✓ Practical Deep Learning with PyTorch (Udemy: License UC-NOWEU0LM) ✓ Deep Learning A-Z™: Hands-On Artificial Neural Networks (Udemy: License UC-GVEFQUT1) ✓ Convolutional Neural Networks (Coursera: License ZXKVAMFQDYPT) ✓ Improving Deep Neural Networks: Hyperparameter tuning, Regularization and Optimization (Coursera: License KFYQLKRYMN2R) ✓ Neural Networks and Deep Learning (Coursera: License D3M4M95KW3JH) ✓ Structuring Machine Learning Projects (Coursera: License 6T68J8DSKTS6) ✓ Image and video processing from mars to Hollywood with a stop at hospital (Coursera) Achievements: ✓ Received employee of month award for contribution in commercialization of sports analytics solution ✓ Stood as one of the best managers in reportee feedback survey at group level ✓ Received spot award for presentation on “Introduction to touch technology” ✓ Received Samsung System LSI Group (SLG) best performer (platinum) award for the design and development of touch algorithms ✓ Received group level annual award for the contribution in touch sensing algorithms ✓ Received half yearly stylist award for design & development of touch co-ordinate extraction solution ✓ Won special recognition award in Samsung for excellent execution of SVC codec ✓ Won League of Titans award in TI for very good execution of DM365 codecs ✓ Received Gold medal in B.Tech Patents/Publications: ✓ “System and method for estimating location of a touch object in a capacitance touch panel”, Publication number: 20180032170 ✓ Filed patent “Method for dynamic access configuration and secure UI with finger print on displays” ✓ Filed patent “3D location estimation in proximity of touch panels” ✓ Samsung Best Paper Award Conference on “High precision multi finger tracking algorithm” ✓ “Touch sensor controller and method for driving the same” Publication number: 20150169123 ✓ Samsung tech conference Techaton-2014 on “Intra coding efficiency improvement through de-multiplexed block processing” ✓ Patent on “SCALABLE VIDEO CODING AND DEVICES PERFORMING THE SCALABLE VIDEO CODING” IPC8 Class: AH04N712FI, upsc class: 37524012, Patent application number: 20120213275 ✓ Samsung tech conference on “Efficient design for carry propagation in bool coder in Vp8 encoder” Work Experience: Company Designation Duration Samsung R&D Institute. Bangalore, India Principal Engineer Mar 2015 – till date Senior Chief Engineer Apr 2013 – Feb 2015 Chief Engineer Apr 2011 – Mar 2013 Lead Engineer Jan 2010 – Mar 2011 Texas Instruments Pvt. Ltd., Bangalore, India Senior Software Engineer Jan 2008 - Jan 2010 Allgo Embedded Systems Pvt. Ltd., Bangalore, India Software Engineer Jun 2005 – Jan 2008 Project work: Domain Project Description/Roles & Responsibilities Company/Duration Deep Learning Human Fall Detection Human fall detection using dynamic vision sensor (DVS) for home IoT • Product requirement definition • On device deep learning based (CNN- LSTM) solution architect for elderly care service • Human posture detection solution architect for post fall analysis Samsung R&D Institute Bangalore, India. Apr. 2015 ~ Till date Mini Projects • Facial key points detection • Image captioning • Dog breed classifier • Face Generation • Generate TV Scripts • Teach a Quadcopter How to Fly Fingerprint on Display Fingerprint verification solution architect for low resolution fingerprint on display devices • Signal reconstruction techniques, semi supervised learning using auto encoders, convolutional neural networks, Pattern matching techniques to build fingerprint verification system Fingerprint Anti spoofing Fingerprint anti spoofing solution • Feature extraction and Support vector machine (SVM) Machine Learning Wake up gesture recognition algorithms Wake up gesture recognition solution architect for touch panels • Dynamic time warping based recognition Samsung R&D Institute Bangalore, India. Jan. 2012 ~ Mar. 2015 Touch status classification algorithm Touch mode classification (finger/stylus/glove/hover) solution architect • Feature extraction and Random forest to classify touch mode Wet finger tracking algorithms Wet finger tracking algorithm • Wet finger touch solution design and development for capacitance touch panels • Algorithm design & benchmarking • Firmware optimization on Cortex-M3 Proximity sensing algorithms R-Touch algorithm to identify 3D location of finger in proximity of touch panels • The solution includes principle component analysis, Gaussian mixture models and Gaussian process regression • Firmware optimization on Cortex-M3 Multi finger tracking algorithms Multi finger tracking solution architect • Kalman filter-based algorithm design and development for 10 fingers tracking Elliptical parameter extractions for finger touch Finger orientation estimation algorithm • Finger size and orientation estimation using singular value decomposition, Low noise Integration algorithm Integration algorithm for differential touch sensor AFEs. • Signal processing filtering approaches Jitter suppression algorithms Algorithm to smooth jitter in finger drag due to noise. • Kalman filter-based smoothing Touch location estimation algorithms High precision touch coordinate extraction algorithm with 1mm diameter stylus • Solution architect • Multi-rate signal processing approach to estimate touch coordinates Video processing Real Video 8/9 Decoder Structured C-model for Real Video decoder for video ip Multi format codec (MFC7.1) • C-model architecture design and development Samsung R&D Institute Bangalore, India. Jan. 2010 ~ Dec. 2011 H.264 Professional profile Encoder and Decoder Structured C-model for H264 High4:2:2 and High4:4:4 profiles for Multi format codec (MFC8.0). • C-model architecture design and development • Bandwidth analysis and data organization in memory SVC Encoder and SVC Decoder Structured C-model for SVC codec for Multi format codec (MFC7.0) • C-model architecture design and development • Rate distortion algorithm design and quality analysis • SVC bandwidth analysis • Proposals for SVC layer switching methods Multi view coding MVC standard feasibility study for multi format codecs H.264 HP Video encoder on DM365/DM375 H264 High Profile video encoder to encode 1080p/30fps resolution video sequences in real time. • Upgrading Base Profile Encoder code to High Profile. • Addition of interlaced encoding. • ARM and DMA Optimizations to meet the performance requirements • Quality Fine tuning wrt rate control algorithms • High profile features addition Texas Instruments Jan 2008 ~ Jan 2010 Image processing Image Denoise Image denoise using wavelet • Algorithm design using wavelet-based techniques and development on ARM11 Allgo. Embedded Systems Jan 2006 ~ Jan 2008 Video processing H.264 BP Video encoder Rate distortion algorithm design and development for mode decision in H.264 Baseline Profile Video Encoder. H.264 HP Video Decoder The efficient design of H.264 High Profile Video Decoder for Silicon Hive 2-tile Architecture. • Stream processor instructions design for efficient implementation of CABAC on silicon Hive Architecture. • Efficient Implementation of HP decoder parsing and CABAC. Audio processing 3D Audio Using Loud Speakers Creating 3D-Audio illusion using just two speakers. • Inverse filter design for cross talk cancellation. • Filters design for stereo widening, surround sound effect. WMA Decoder Optimal implementation of IMDCT module of WMA Decoder on ARM9E Signal processing Sample rate converter Sample rate converter among all Mpeg frequencies • Multi-rate signal processing-based algorithm design and development ARM9E and ARM11 Speech processing Speaker Identification Speaker identification using novel modified group delay features and Gaussian mixture models for classification IIT Madras Jan 2005 ~ May 2005 Personal Details: Date of Birth 21 Nov 1982. Current Address #16, 3rd cross, Nanja Reddy Colony, Murugesh Palya, Bangalore, Karnataka – 560 017.'"
      ]
     },
     "execution_count": 92,
     "metadata": {},
     "output_type": "execute_result"
    }
   ],
   "source": [
    "txt_Kareem"
   ]
  },
  {
   "cell_type": "code",
   "execution_count": 152,
   "id": "db006e48",
   "metadata": {},
   "outputs": [
    {
     "data": {
      "text/plain": [
       "\"Aakash Sharma Data Scientist Working as a data scientist in a ﬁntech company provides real-life exposure in diﬀerent Analytical Models. And takes pride in building models that translate data points into business insights. aakashsharma804@gmail.com +91 9711710493 Bangalore, India linkedin.com/in/aakashsharma804 live:aakashsharma804 github.com/aakash804 WORK EXPERIENCE Junior Data Scientist Sub-k IMPACT Solutions Ltd. 03/2020 - Present, Hyderabad ,India Formaly known as, BASIX SUB-K ITRANSACTION LTD. Leading and setting up Data Warehouse as a Data infrastructure Architect to Migrate complete Database into AWS. Build Financial Machine Learning Models Independently like Fraud Detection, Customer/Agent Segmentation, Credit Scoring Tool etc. and deployed successfully into the Platform. Analytical Support to Senior Management across all business verticals. Credit Risk Modelling (Using PD, LGD and EAD), Forecasting Models, etc. on MSME and MFI Lending space using Python. Building Dashboards using Power BI. Analysis through SQL and MongoDB and Creating Alerts and Automation using Python. Assistant Software Engineer ITS MY NAME PVT LTD 06/2017 - 04/2019, Delhi, India Delhi based startup company Design and build advanced applications with the .NET platform using c#, javascript, SQL, MVC Collaborate with cross-functional teams to deﬁne, design, and ship new features Work on bug ﬁxing and improving application performance Continuously discover, evaluate, and implement new technologies to maximize development eﬃciency Design and development UI for diﬀerent orientations PROJECTS Predict The Case Count organised by LTFS Data Science FinHack (01/2020 - 01/2020) Project on Lung Cancer classiﬁcation using Keras (01/2020) Project on Image Classiﬁcation (MNIST dataset) using tensorﬂow (01/2020 - Present) Check 15+ more Projects on my github/Linkedin proﬁle EDUCATION Post Graduate Diploma in Data Science, Machine learning and AI Manipal Academy of Higher Studies 07/2019 - Present, Bangalore, 8.9 CGPA Bachelors of Computer Application Guru Gobind Singh Indraprastha University 08/2014 - 07/2017, Delhi , 7.9 CGPA SKILLS python Machine Learning Natural Language Processing Data Analysis Statistical Analysis Data Scraping Power BI/Tableau Hive Hadoop Tensorﬂow AWS Keras Deep Learning (ANN, CNN, RNN) Mongodb (Basics) SQL pyspark ACHIEVEMENTS Hackerearth Doing Hackathons Analytic Vidhya Doing Hackathon and Written DSAT (42) Kaggle Doing Hackathon and got rank 39th MachineHack Doing various Hackathon and got good rank Meetup Attending meetup's related to AI CERTIFICATES IBM Data Science Professional Certiﬁcate Coursera Introduction to Apache Spark MapR Technologies Applied Machine Learning Alberta Machine Learning Institute (amii) Solution Architect AWS LANGUAGES English Full Professional Proﬁciency German Limited Working Proﬁciency Hindi Native or Bilingual Proﬁciency Achievements/Tasks Achievements/Tasks\""
      ]
     },
     "execution_count": 152,
     "metadata": {},
     "output_type": "execute_result"
    }
   ],
   "source": [
    "txt_Aakash"
   ]
  },
  {
   "cell_type": "code",
   "execution_count": 196,
   "id": "7184cd9b",
   "metadata": {},
   "outputs": [
    {
     "data": {
      "text/plain": [
       "'ADARSH MAMIDPELLIWAR DATA SCIENCE, ML, DL, ANALYTICS Mobile : +91 9403875216 \\uf0f7 E-Mail : adarshmamidpelliwar@gmail.com LinkedIn : https://www.linkedin.com/in/adarsh-d-mamidpelliwar \\uf0f7 GitHub : https://github.com/adarshm93 An Overview Certified “Business Analytics Professional” with 1.5+ years of experience in Business Analytics, Project, Quality and Process Management. Working with Innodatatics Inc. as Associate Data Scientist. A thorough implementer with abilities in Business Analytics, Project management, Quality management focusing on maximizing customer satisfaction, process compliance and business value articulation; comprehensive experience in leading teams & multiple projects. A result-oriented leader with expertise in devising strategies aimed at enhancing overall organisational growth, sustained profitability of operations and improved business performance. Adept at mapping client’s requirements, custom designing solutions & troubleshooting for complex information systems management; acting as an escalation gate to resolve critical issues of the team members. Possess commendable interpersonal, communication & organizational skills with proven abilities in team management, customer relationship management & effective crisis management. Competencies Matrix Project Management: Planning project activities viz., scoping, estimation, tracking, change management, delivery management & support. Implementing project plans within preset budgets and deadlines. Mapping clients’ requirements and providing them effective solutions involving evaluation and definition of scope of project and finalisation of project requirements. Undertaking responsibilities of removing less logical procedures in processes thereby reducing processing time. Service Delivery: Defining service standards and quality guidelines as per ISO that serve as benchmark for excellent service delivery. Laying down framework for work direction and staff planning post thorough assessment of staff capabilities. Preparing & presenting various weekly/monthly MIS reports pertaining to process and productivity. Ensuring end- to-end ownership of incidents and service requests. Meeting deadlines and turnaround time without compromising quality norms and adhering to SLA. Mapping business requirements & coordinating in developing & implementing processes in line with guidelines. Quality & Compliance: Ensuring that teams adhere to all the quality tools & procedure implementation. Administering the process improvement of Quality on certain parameters for increasing the quality standards, reducing the critical errors by calibrating with the team supervisors and quality -auditors. Conducting internal process audits & process reviews for ensuring strict adherence to the process parameters/systems as per defined guidelines. Client Relationship Management: Building and maintaining healthy business relations with corporate clients, ensuring customer satisfaction by achieving delivery & service quality norms. Supervising customer service operations for rendering and achieving quality services; facilitating first line customer support by answering queries & resolving issues within TAT. Team Management: Identifying and implementing strategies for building team effectiveness by promoting a spirit of cooperation between team members. Recruiting teams and determining training needs of employees to enhance their operational efficiency leading to increased productivity. Organisational Scan Feb’ 19 – Till Date: Innodatatics Inc., Hyderabad as Associate Data Scientist \\uf096 Working on data analytics, advanced analytics projects and good knowledge in various analytical techniques improvements. \\uf096 Exposure to data mining techniques like clustering, market basket analysis, developing association rules. \\uf096 Working on machine learning algorithms like SVM, decision trees, Knn, Naïve Bayes, artificial neural networks, ensemble methods, text mining. \\uf096 Knowledge in building prediction models using simple linear regression, multiple linear regression analysis, logistic regression analysis techniques, and forecasting techniques using ARIMA methodology. \\uf096 Experience in building Deep Learning models like CNN, RNN, and NLP. Project: Bird Species Classification using Deep Learning Client Information: Client is a leading Animal conservation firm in Malaysia providing services to corporate sector. Project Objective: The objective of this project is to deploy good quality software which correctly identifies the bird species from an image and gives appropriate results. Our aim is to identify bird species by giving an image as an input to the software and which give us result as name of the predicted bird species. Methods and Algorithms: Keras, Pretrained model, Data Augmentation, Transfer Learning. Program Layout: In this project, VGG-16 pretrained model is used to classify image. Tried various Python Libraries like OpenCV, Keras, TensorFlow. Dataset consist of 50 species; all images are 224 X 224 X 3 colour images in jpg format. Responsibilities: Performed Data Augmentation, checked for different Activations functions, optimizers and extracted the bottleneck features of the images to classify the species type. Business Impact: For beginners, the software will be of great help because at the early stages of bird-watching, identifying or differentiating between different species can be difficult and frustrating. To experienced bird-watchers also this model will majorly help in identification. Project: Information Retrieval using NLP Client Information: Client is leading entrepreneur in ecommerce sector. Project Objective: Based on the text question, the NLP algorithm should retrieve 5 most relevant responses from the corpus with rankings. It will easy to access and easy to view relevant responses containing that specific word. Methods and Algorithms: Text Cleaning, Sentimental Analysis, Ngram TFIDF, LDA. Program Layout: In this project, the Whoosh Algorithm is used and TFIDF. Tried various Python Libraries like parser, schema. We performed Sentimental Analysis, for this we used Uni-gram, Bigram, working on LDA, so when we type a word then it will show the output with 5 most relevant responses. Responsibilities: Worked on Cleaning the text data, Tokenisation, Name Entity Recognition and Whoosh Package. Business Impact: Achieved client’s primary requirement of retrieving their responses and provide impactful analytical solution to improve their business and also automated their performance and finding search queries. Project: Predict Electric Motor Temperature Project Objective: Predict Motor Temperature based on other attributes available. It will reduce maintenance and will increase the lifespan of the motor. Methods and Algorithm: Data Cleansing, Regression, Random Forest, Xgboost Regression, Adaboost Regression, Light GBM. Program Layout: - In this project, Linear Regression and Ensemble technique is used to build the models and predict temperature. We used various python libraries like Keras, sklearn and TensorFlow. We performed EDA, normalization, label encoding and build various models and achieved an accuracy of 98.11%. Responsibilities: Worked on Model Building and Evaluation of the models. Business Impact: With the implementation of the Machine Learning Algorithm we were able to predict the temperature of motor, in turn which successfully enhanced the company’s target meeting capability and ensuring the safety of motor and hence minimizes the loss. Project: Fraud Warranty Claims Project Objective: The client wanted to predict whether the customer claims the warranty for the product is Fraud or Genuine. So that it will reduce the loss amount for the company. Methods and Algorithms: Data Cleansing, Feature Selection, Cross-Validation, XGboost, Random Forest, Hyperparameter Tuning. Program Layout: In this Project, Classification Techniques like Ensemble method to build models is used. We used various python libraries like sklearn, seaborn. We performed data cleansing, EDA, Standardization, Feature Selection and Build models by using Random Forest, XGBoost. We did Hyperparameter Tuning to increase the accuracy of the final model. We got the accuracy of 96.23%. Responsibilities: Worked on Data Cleaning, Data analysis and Balancing Techniques and model building. Business Impact: We were able to improve/predict the customer claims and retain customers from churning and minimizing the loss to the company. Professional Skills \\uf096 Statistics - Probability Theory, Hypothesis Testing, Time-series Analysis, Statistical Modelling, Data Visualization, Data Analysis. \\uf096 Machine Learning - Algorithms for Regression, Classification Techniques (Decision Trees, Random Forest, Naive Bayes, K- NN), Clustering, Neural Network, Forecasting System. \\uf096 Deep Learning - ANN, CNN, RNN, LSTM. \\uf096 Python - ML Algorithms, Packages like NumPy, Pandas, NLTK, SciPy, Scikit-Learn, Stats models, Matplotlib, Seaborn, Keras, TensorFlow. \\uf096 Natural Language Processing - Text Mining, Web Scrapping, Sentiment Analysis. Professional Trainings & Credentials \\uf096 Certified in Data Science Foundation – IBM (L1 & L2). \\uf096 Certified in Data Science – Excelr Solutions, Hyderabad (09/2018). Academic Credentials 2017 Master of Technology – EC from BIT Engineering College, Maharashtra (Percentage – 68%) 2014 Bachelors of Engineering – ENTC from Government College of Engineering, Maharashtra Awards & Recognition \\uf096 Certificate of appreciation for doing volunteer ship for National Cancer Control Program held by NGO Cancer Aid Society. \\uf096 Inter-College cricket tournament and tug of war winner Award. Personal Dossier Date of Birth : 21st June, 1993 Residential Address : 60 Feet Road, Ayyappa Society, Madhapur, Hyderabad-500081 Linguistic Abilities : English, Hindi & Marathi Location Preference : Hyderabad I hereby, declare that the above information is true to the best of my knowledge. Adarsh Mamidpelliwar.'"
      ]
     },
     "execution_count": 196,
     "metadata": {},
     "output_type": "execute_result"
    }
   ],
   "source": [
    "txt_Adarsh"
   ]
  },
  {
   "cell_type": "code",
   "execution_count": 247,
   "id": "1d192315",
   "metadata": {},
   "outputs": [
    {
     "data": {
      "text/plain": [
       "'Amit Bisht +91 9879144619 amitbisht51@live.com A data science enthusiast with overall 4 years and 8 months of expereince in IT industry. I possess building end to end machine learning pipeline and driving key insights through impactful dashboards. I have good understanding of Microsoft on premise and cloud Azure data factory tools. Experience September/2018 to Present HCL Technologies Lead Engineer, Noida Work Force Management(WFM) • Microsoft has hundreds of tools across the world in various categories, therefore multiple incidents are raised everyday ranging from services outage in commercial domain to hardware related issued in consumer domain. • Client wants to forecast the volume of tickets generated, two years in advance. So that, it can mobilize its 40,000 workforce well in advance. And keep them prepared for any outage/incident that may occur anywhere across the globe. • We have design and developed the Volume Forecasting for customer services support volume across businesses using Machine Learning techniques such as Auto ARIMA, Stl Arima, GLM,GLS and DLM. • Design unified schema to deliver one source of truth to all forecasting leads. The data is scheduled daily to download from the client’s server, viz lighthouse and CSSODE server. The process is automated using SQL Server Agent job. • The control/data flow package is designed in SSIS. And also, configured for full load and incremental load. • When the forecasting is done for subsequent months. The Actual data is validated and this process is termed as Volume lock. • Variance Reports are created to track variance to forecast for the validation of forecast with the volume lock data. • A complete pipeline is created in azure data factory, to provide business owners a single point of contact to forecast data for their business units. Technical Skills • Azure Data Factory • Machine Learning • NLP • Deep Learning • Forecasting/Time series Analysis • Power BI • SQL Server 2016 • Python • SSIS • JIRA • Jenkins • GitHub • Unix • C++11 Education NIRMA UNIVERSITY | M.TECH Mechanical Engineering, 8.34/10 2013-2015 | Ahmedabad, India UPES | B.TECH Aerospace Engineering, 2.7/4 2008-2012 | Dehradun, India H.S.C (CBSE) | 2007-2008 76.60 PERCENTAGE S.S.C (CBSE) | 2005-2006 78.80 PERCENTAGE Courses • Coursera – University of Washington, ML • Udemy – Data Science Bootcamp for beginners • Classroom training for Big Data Technologies from ETL Hive, Pune. Co-curricular Activities • Runner up of NIRMA University M.Tech cricket league tournament 2015 • Winner of NIRMA University Fresher’s cup volleyball tournament 2014. • Runner up in Intra University Cricket tournament, 2010. Personal Details Current Company: HCL Tech. Location : Noida, UP Status : Married DOB : 10th Mar 1991 February/2016 to April/2018 Cognizant Technology Solution Programmer Analyst, Pune Feed Transformation Engine, Elektron • Thomson Reuters Elektron is a suite of data and trading propositions, including low latency feeds along with the analytics, enterprise platform and transactional connectivity to support any workflow application. • All of these capabilities can be deployed at a customer location or delivered as a fully managed service from any one of our co-location and proximity hosting sites around the globe. • I was part of the team which developed FTE (Feed Transformation Engine) for Elektron.FTE has three modules Line Interface and Message Decoder includes connection with the exchange and mapping of the market data with the field Id’s. • Lookup module stores the identification for future reference of the market data. Where each transaction has a unique system identification, which is then converted to a Reuters identification code. The conversion logic is provided to us by the business analyst. • Transform is mostly business logic and was provided by the client and we had to integrate with our other two modules. • The libraries are then deployed into the development box, to carry out the testing from my end. And in parallel the QA team starts testing the libraries with their pre-defined tests. • Any bug raised through JIRA is then resolved by the development team and QA team rechecks the functionality to finally close the ticket in JIRA. • The final libraries are then deployed in the client side soak box, where the client tests the libraries with their test cases.'"
      ]
     },
     "execution_count": 247,
     "metadata": {},
     "output_type": "execute_result"
    }
   ],
   "source": [
    "txt_Amit"
   ]
  },
  {
   "cell_type": "code",
   "execution_count": 22,
   "id": "98bcee31",
   "metadata": {},
   "outputs": [],
   "source": [
    "entity_aditya={'entities': [(0, 13, 'Name'),\n",
    "    (134, 148,'MObile'),\n",
    "    (156, 181, 'Email'),\n",
    "    (21, 105, 'Skills'),\n",
    "   (834, 849, 'College Name'),\n",
    "   (818, 822, 'Graduation Year'),\n",
    "   (767, 772, 'Degree'),\n",
    "   (242, 286, 'Location'),\n",
    "   (192, 232, 'Linkedin')]}"
   ]
  },
  {
   "cell_type": "code",
   "execution_count": 44,
   "id": "5ce1f6d9",
   "metadata": {},
   "outputs": [],
   "source": [
    "entity_Anjali={'entities': [(0, 16, 'Name'),\n",
    "    (225, 235,'MObile'),\n",
    "    (202, 224, 'Email'),\n",
    "    (1466, 1608, 'Skills'),\n",
    "   (330, 364, 'College Name'),\n",
    "   (301, 305, 'Graduation Year'),\n",
    "   (306, 329, 'Degree'),\n",
    "   (365, 382, 'Location'),\n",
    "   (192, 232, 'Linkedin'),\n",
    "(1883, 2235, 'Achievements'),\n",
    "(2246,2302,'Interests'),\n",
    "(2310,2314,'CGPA'),\n",
    "(2246,2302,'Interests'),\n",
    "(435, 665, 'Work Experience'),\n",
    "(686, 1458, 'Projects')]}"
   ]
  },
  {
   "cell_type": "code",
   "execution_count": 87,
   "id": "f183e13c",
   "metadata": {},
   "outputs": [],
   "source": [
    "entity_Vipul={'entities': [(53, 729, 'Work Experience'),\n",
    "   (749, 2117, 'Projects'),\n",
    "   (2899, 3114, 'Skills'),\n",
    "   (2228, 2256, 'College Name'),\n",
    "   (2263, 2267, 'Graduation Year'),\n",
    "   (2129, 2159, 'Degree'),\n",
    "   (2161, 2215, 'Branch'),\n",
    "   (2216,2221,'CGPA'),\n",
    "    (,,'Achievements')\n",
    "   (3183, 3248, 'Email Address'),\n",
    "   (3249,3259,'Mobile'),\n",
    "   (3122, 3139, 'Name')]}"
   ]
  },
  {
   "cell_type": "code",
   "execution_count": 147,
   "id": "59f19217",
   "metadata": {},
   "outputs": [],
   "source": [
    "entity_Kareem={'entities': [(0, 15, 'Name'),\n",
    "    (119, 130,'Mobile'),\n",
    "    (43, 65, 'Email'),\n",
    "    (1155, 1585, 'Skills'),\n",
    "   (1028, 1058, 'College Name'),\n",
    "   (998, 1002, 'Graduation Year'),\n",
    "   (1003, 1011, 'Degree'),\n",
    "   (1066, 1072, 'Location'),\n",
    "   (66, 107, 'Linkedin'),\n",
    "(2273, 3036, 'Achievements'),\n",
    "(3054, 3906, 'Patents/Publications'),\n",
    "(1073,1077,'CGPA'),\n",
    "(3965, 4335, 'Work Experience'),\n",
    "(4419, 9458, 'Projects'),\n",
    "(1604,2256,'Certifications')]}"
   ]
  },
  {
   "cell_type": "code",
   "execution_count": 192,
   "id": "46be8743",
   "metadata": {},
   "outputs": [],
   "source": [
    "entity_Aakash={'entities': [(0, 14, 'Name'),\n",
    "    (252, 262,'Mobile'),\n",
    "    (222, 247, 'Email'),\n",
    "    (2133, 2341, 'Skills'),\n",
    "   (1917, 1974, 'College Name'),\n",
    "   (1983, 1990, 'Graduation Year'),\n",
    "   (1878, 1913, 'Degree'),\n",
    "   (1994, 2002, 'Location'),\n",
    "   (280, 310, 'Linkedin'),\n",
    "(2355, 2572, 'Achievements'),\n",
    "(2005,2008,'CGPA'),\n",
    "(370, 1581, 'Work Experience'),\n",
    "(1591, 1867, 'Projects'),\n",
    "(2586,2908,'Certifications')]}"
   ]
  },
  {
   "cell_type": "code",
   "execution_count": 241,
   "id": "618b1e52",
   "metadata": {},
   "outputs": [],
   "source": [
    "entity_Adarsh={'entities': [(0, 20, 'Name'),\n",
    "    (66, 77,'Mobile'),\n",
    "    (88, 117, 'Email'),\n",
    "    (8495, 9056, 'Skills'),\n",
    "   (9277, 9300, 'College Name'),\n",
    "   (9241, 9245, 'Graduation Year'),\n",
    "   (9246, 9271, 'Degree'),\n",
    "   (9742, 9751, 'Location'),\n",
    "   (129, 174, 'Linkedin'),\n",
    "(9445, 9628, 'Achievements'),\n",
    "(1073,1077,'CGPA'),\n",
    "(3487, 4212, 'Work Experience'),\n",
    "(4419, 9458, 'Projects'),\n",
    "(9097,9218,'Certifications'),\n",
    "(4223,8471,'Projects')]}"
   ]
  },
  {
   "cell_type": "code",
   "execution_count": 283,
   "id": "2a30f998",
   "metadata": {},
   "outputs": [],
   "source": [
    "entity_Amit={'entities': [(0, 10, 'Name'),\n",
    "    (11, 25,'Mobile'),\n",
    "    (26, 46, 'Email'),\n",
    "    (1841, 2021, 'Skills'),\n",
    "   (2032, 2048, 'College Name'),\n",
    "   (2090, 2099, 'Graduation Year'),\n",
    "   (2051, 2057, 'Degree'),\n",
    "   (2058,2081,'Branch'),\n",
    "   (2717, 2726, 'Location'),\n",
    "(2284, 2436, 'Courses'),\n",
    "(2465, 2660, 'Achievements'),\n",
    "(2082,2088,'CGPA'),\n",
    "(345, 345, 'Work Experience'),\n",
    "(2764, 2846, 'Work Experience')]}"
   ]
  },
  {
   "cell_type": "code",
   "execution_count": 23,
   "id": "9b36f251",
   "metadata": {},
   "outputs": [],
   "source": [
    "training_data.append((aditya_txt,entity_aditya))"
   ]
  },
  {
   "cell_type": "code",
   "execution_count": 45,
   "id": "31ebb4ff",
   "metadata": {},
   "outputs": [],
   "source": [
    "training_data.append((txt_anjali,entity_Anjali))"
   ]
  },
  {
   "cell_type": "code",
   "execution_count": 88,
   "id": "9c2d95e6",
   "metadata": {},
   "outputs": [],
   "source": [
    "training_data.append((txt_vipul,entity_Vipul))"
   ]
  },
  {
   "cell_type": "code",
   "execution_count": 148,
   "id": "7a0ebaaf",
   "metadata": {},
   "outputs": [],
   "source": [
    "training_data.append((txt_Kareem,entity_Kareem))"
   ]
  },
  {
   "cell_type": "code",
   "execution_count": 193,
   "id": "c2fd6e5e",
   "metadata": {},
   "outputs": [],
   "source": [
    "training_data.append((txt_Aakash,entity_Aakash))"
   ]
  },
  {
   "cell_type": "code",
   "execution_count": 242,
   "id": "dc0b56b0",
   "metadata": {},
   "outputs": [],
   "source": [
    "training_data.append((txt_Adarsh,entity_Adarsh))"
   ]
  },
  {
   "cell_type": "code",
   "execution_count": 284,
   "id": "5918cd85",
   "metadata": {},
   "outputs": [],
   "source": [
    "training_data.append((txt_Amit,entity_Amit))"
   ]
  },
  {
   "cell_type": "code",
   "execution_count": 29,
   "id": "7a9fcaa9",
   "metadata": {},
   "outputs": [],
   "source": [
    "training_data.append((txt_Anurup,entity_Anurup))"
   ]
  },
  {
   "cell_type": "code",
   "execution_count": 62,
   "id": "e2f61a13",
   "metadata": {},
   "outputs": [],
   "source": [
    "training_data.append((txt_Arti,entity_Arti))"
   ]
  },
  {
   "cell_type": "code",
   "execution_count": 69,
   "id": "26e15f40",
   "metadata": {},
   "outputs": [
    {
     "data": {
      "text/plain": [
       "[(\"ADITYA SHARMA SKILLS Programming Languages: Java, C Tools: Anaconda, Android Studio, Arduino IDE, Proteus CONTACT INFORMATION Mobile: +91-9999386235 Email: aditya25dec2000@gmail.com Linkedin: linkedin.com/in/aditya-sharma-331321192/ Address: Patel Hostel, MNNIT Allahabad,Prayagraj, U.P. AREA OF INTEREST Machine Learning Android Development Robotics PROJECTS March 2019 A simple line following and wall following bot which follows given a line strip using IRSensors and follow a wall using ultrasonic sensors and Arduino Mega IARC bot September 2019 A smart table fan and light based on Atmega32A microcontroller which takes readings using LM35 sensor and LDR and automatically controls fan speed and light intensity. SMART FAN AND LIGHT ACADEMIC HISTORY CGPA - 8.1 BTECH. ELECTRONICS AND COMMUNICATION ENGINEERING - 2022 (EXPECTED) MNNIT Allahabad Percentage - 97.6% CLASS XII (CBSE) - 2018 Children's Academy (Ghaziabad) MNNIT Allahabad Children's Academy (Ghaziabad) CLASS X (CBSE) - 2016 CGPA - 10 ACHIEVEMENTS Runner up in Embedded Avishkar 2019 Participated in IARC challenge in Techkriti 2018 Participated in Quadcopter event in Avishkar 2018 EXTRA-CURRICULAR ACTIVITIES Photography Photo editing\",\n",
       "  {'entities': [(0, 13, 'Name'),\n",
       "    (134, 148, 'MObile'),\n",
       "    (156, 181, 'Email'),\n",
       "    (21, 105, 'Skills'),\n",
       "    (834, 849, 'College Name'),\n",
       "    (818, 822, 'Graduation Year'),\n",
       "    (767, 772, 'Degree'),\n",
       "    (242, 286, 'Location'),\n",
       "    (192, 232, 'Linkedin')]}),\n",
       " ('Anjali Choudhary To succeed in an environment of growth and excellence and earn a job which provides me job satisfaction and self-development and help me achieve personal as well as organization goals. anjali12.ins@gmail.com 9945313337 Bangalore, India github.com/anjalinagel12 EDUCATION 08/2015 – 05/2019 Bachelor of Engineering Siddaganga Institute Of Technology Tumkur, Karnataka Information Science and Engineering WORK EXPERIENCE Analog Devices (06/2019 – Present) Deep Learning intern Real time video analysis using Deep Learning TechTwigs Technologies (06/2018 – 07/2018) Data Science intern KYC Document Classiﬁer using fast.ai library and with 99% accuracy PROJECTS UNDERTAKEN 08/2018 – 05/2019 Major Project Smart Eye for visually disabled people using Deep Learning and Computer Vision A picture clicked by the blind person using the camera placed on his spectacle generates a caption using CNN and LSTM algorithm. The generated caption is then converted to voice using text-to-speech module.The blind person can hear what is happening in his surrounding by the picture clicked by him. 08/2017 – 05/2018 Mini Project Book Recommendation System using Machine Learning A Book Recommendation System which recommends books on basis of previous history of a user using k- Nearest Neighbour algorithm. 01/2018 – 03/2018 Udacity bootcamp project Boston Housing prediction Prediction of houses depending on various parameters using Decision Tree algorithm SKILLS Deep Learning Machine Learning fast.ai Pandas Numpy Matplotlib Python C C++ Data Structures Algorithms NLP Prediction Classiﬁcation Clustering CERTIFICATES * Udacity Machine Learning nanodegree (01/2018 – 04/2018) * Udemy complete Python Bootcamp course (05/2017 – 06/2017) * Team member of DeCoders- a Programming Club of SIT (03/2016 – Present) * PyTorch Facebook Udacity scholar (10/2018 – 02/2019) ACHIEVEMENTS * Best Major Project award (Final Year Project) 2019 Smart Eye for Visually disabled people using Deep Learning * 1st prize in ROBOTHON- 8 hour Hackathon 2019 Smart Eye for Visually disabled people using Deep Learning * 2nd prize in Hobby Project Presentation- TECHNISUM 2019 * 2nd prize in Code For Good- 24 hour Hackathon 2018 hosted by JP Morgan Chase INTERESTS Coding Reading Books Problem Solving Analytical Thinking CGPA : 8.44',\n",
       "  {'entities': [(0, 16, 'Name'),\n",
       "    (225, 235, 'MObile'),\n",
       "    (202, 224, 'Email'),\n",
       "    (1466, 1608, 'Skills'),\n",
       "    (330, 364, 'College Name'),\n",
       "    (301, 305, 'Graduation Year'),\n",
       "    (306, 329, 'Degree'),\n",
       "    (365, 382, 'Location'),\n",
       "    (192, 232, 'Linkedin'),\n",
       "    (1883, 2235, 'Achievements'),\n",
       "    (2246, 2302, 'Interests'),\n",
       "    (2310, 2314, 'CGPA'),\n",
       "    (2246, 2302, 'Interests'),\n",
       "    (435, 665, 'Work Experience'),\n",
       "    (686, 1458, 'Projects')]}),\n",
       " ('Made with Standard Resume Learn more Work Experience Data Scientist Fokal AI Jan, 2020 - Current Projects: 1.) NLP Text Classi cation, Emotions Classi cation in customer reviews using customized models with model result text explainability. Done word embeddings, sentiment analysis. 2.) Build custom, multiclass classi cation models, for automatic bidding of television ad slots, Data Analysis, engineering, predictions, and time series analysis. 3.) Data Studio Dashboards for company jobs analysis, college reviews, zip codes 360° providing a complete 360° data analysis and information. 4.) Worked on Data, Model explanation products, which provides the user ability to analyze data, build models, and get model explainability. Personal Projects Developer NLP Chatbot Oct, 2020 - Nov, 2020 NLP Chatbot build from scratch with voice feature using TensorFlow, It is based on Seq2Seq architecture. The Architecture contains encoders and decoders which are LSTMs. Developer My Health( AI Website ) May, 2019 - Apr, 2020 Ai website build using the Django web framework in which the user can predict their health condition, with high accuracy. This website predicts Pneumonia, Malaria, Diabetes. Users just need to upload the desired image and the deep learning model will predict for example pneumonia or normal condition. App Developer Gupta Stationery (Startup) Jun, 2019 - Jul, 2019 The o cial app of Gupta Stationery where you can order stationery items very easily and get it delivered to your house. There are plenty of stationery items to choose from. All items are available at the best prices. Developer Face recognition Sep, 2018 - Sep, 2018 The model performs face recognition and it also detects faces by using open cv. Face recognition is done by using neural networks Software section Projector control using hand gestures Apr, 2019 - Apr, 2019 n this projector is controlled using different hand gestures. It uses computer vision. Django developer ProTrade website Oct, 2018 - Nov, 2018 Website for buying and selling old items. Users can also exchange their items with other items having a similar price. Education Bachelor of Technology - BTech, Electrical, Electronics and Communications Engineering, (7.5 CGPA) CMR Institute Of Technology 2016 - 2020 CBSE 12th board, Science, 91% Dav Public School, Bokaro 2014 - 2016 10th ICSE board, Science, 89% Carmel Convent School 2002 - 2014 Achievements 1.) Published IEEE Research Paper: Automatic Braking System for Two Wheeler with Object Detection and Depth Perception 2.) 4th position in SOCIAL HACKATHON (80 TEAMS): Created a whole network of waste banks with apps and smart dustbins. 3.) FKCCI MANTHAN 2019 STARTUP(TOP 10 ): Created a low-cost timer socket. 4.) Hardware hackathon(2ND POSITION): Projector control using hand gestures. 5.) Apps in Google Play Store: Gupta Stationery, Protrade, QR code scanner, Knowledge gate Skills MACHINE LEARNING - Python, Data analysis, Tensor ow, NLP. DEEP LEARNING - Image processing, Computer Vision, Neural networks. ANDROID DEVELOPMENT - Java, Android studio, Google  rebase, SQL WEB DEVELOMENT - Python, Django. Vipul Kumar Gupta Data Scientist Bengaluru, Karnataka http://vipulkumargupta.pythonanywhere. com/ vipulkumargupta520@gmail.com 8002554322 ML AI Enthusiast Made with Standard Resume Learn more Work Experience Data Scientist Fokal AI Jan, 2020 - Current Projects: 1.) NLP Text Classi cation, Emotions Classi cation in customer reviews using customized models with model result text explainability. Done word embeddings, sentiment analysis. 2.) Build custom, multiclass classi cation models, for automatic bidding of television ad slots, Data Analysis, engineering, predictions, and time series analysis. 3.) Data Studio Dashboards for company jobs analysis, college reviews, zip codes 360° providing a complete 360° data analysis and information. 4.) Worked on Data, Model explanation products, which provides the user ability to analyze data, build models, and get model explainability. Personal Projects Developer NLP Chatbot Oct, 2020 - Nov, 2020 NLP Chatbot build from scratch with voice feature using TensorFlow, It is based on Seq2Seq architecture. The Architecture contains encoders and decoders which are LSTMs. Developer My Health( AI Website ) May, 2019 - Apr, 2020 Ai website build using the Django web framework in which the user can predict their health condition, with high accuracy. This website predicts Pneumonia, Malaria, Diabetes. Users just need to upload the desired image and the deep learning model will predict for example pneumonia or normal condition. App Developer Gupta Stationery (Startup) Jun, 2019 - Jul, 2019 The o cial app of Gupta Stationery where you can order stationery items very easily and get it delivered to your house. There are plenty of stationery items to choose from. All items are available at the best prices. Developer Face recognition Sep, 2018 - Sep, 2018 The model performs face recognition and it also detects faces by using open cv. Face recognition is done by using neural networks Software section Projector control using hand gestures Apr, 2019 - Apr, 2019 n this projector is controlled using different hand gestures. It uses computer vision. Django developer ProTrade website Oct, 2018 - Nov, 2018 Website for buying and selling old items. Users can also exchange their items with other items having a similar price. Education Bachelor of Technology - BTech, Electrical, Electronics and Communications Engineering, (7.5 CGPA) CMR Institute Of Technology 2016 - 2020 CBSE 12th board, Science, 91% Dav Public School, Bokaro 2014 - 2016 10th ICSE board, Science, 89% Carmel Convent School 2002 - 2014 Achievements 1.) Published IEEE Research Paper: Automatic Braking System for Two Wheeler with Object Detection and Depth Perception 2.) 4th position in SOCIAL HACKATHON (80 TEAMS): Created a whole network of waste banks with apps and smart dustbins. 3.) FKCCI MANTHAN 2019 STARTUP(TOP 10 ): Created a low-cost timer socket. 4.) Hardware hackathon(2ND POSITION): Projector control using hand gestures. 5.) Apps in Google Play Store: Gupta Stationery, Protrade, QR code scanner, Knowledge gate Skills MACHINE LEARNING - Python, Data analysis, Tensor ow, NLP. DEEP LEARNING - Image processing, Computer Vision, Neural networks. ANDROID DEVELOPMENT - Java, Android studio, Google  rebase, SQL WEB DEVELOMENT - Python, Django. Vipul Kumar Gupta Data Scientist Bengaluru, Karnataka http://vipulkumargupta.pythonanywhere. com/ vipulkumargupta520@gmail.com 8002554322 ML AI Enthusiast',\n",
       "  {'entities': [(53, 729, 'Work Experience'),\n",
       "    (749, 2117, 'Projects'),\n",
       "    (2899, 3114, 'Skills'),\n",
       "    (2228, 2256, 'College Name'),\n",
       "    (2263, 2267, 'Graduation Year'),\n",
       "    (2129, 2159, 'Degree'),\n",
       "    (2161, 2215, 'Branch'),\n",
       "    (2216, 2221, 'CGPA'),\n",
       "    (3183, 3248, 'Email Address'),\n",
       "    (3249, 3259, 'Mobile'),\n",
       "    (3122, 3139, 'Name')]}),\n",
       " ('Karimulla Shaik Principal Engineer E-Mail: kareem.shk21@gmail.com www.linkedin.com/in/kareem-shaik-b4803535 Phone: +91-98801-76978 Summary: A Machine Learning and Deep Learning expert passionate about cutting-edge technology and solving real world problems, with over a decade of experience in complete cycle of Research to Market of solutions for mobile and IoT applications Profile: ✓ 13+ years of experience in Machine learning, Deep learning model building and Signal/Image processing and vision with hands-on ✓ Excellent in research to commercialization of solutions in field of Computer vision, Touch sensing and Multimedia ✓ Outstanding knowledge in all modalities in multimedia such as video/image/speech/audio processing ✓ Exceptional knowledge of DSP architectures, S/W Engineering, firmware development and optimization Educational Qualification: Qualification Institute/University Percentage of Marks/CGPA Year of Pass Nano Degrees Deep Learning (Udacity), Computer Vision (Udacity) NA 2018 M. Tech. (Comm. Systems) Indian Institute of Technology, (IIT) Madras 8.05/10 2005 B.Tech (ECE) Nagarjuna University, A.P. 75.3% 2003 Technical Skills: Domain knowledge Machine learning, Deep learning, Pattern classification, Computer vision, Image/video processing, Digital signal processing Applications experience Data analytics, Computer vision, Touch sensing, Multimedia Libraries NumPy, SciPy, Scikit-learn, OpenCV, Tensorflow, PyTorch High Level Programming languages C, Matlab, Scilab, Octave, Python, R Video IPs Architectures & Processors DM365, DM368, MFC, ARM9E/11, C64x Certifications: ✓ The Complete Self-Driving Car Course - Applied Deep Learning (Udemy: In progress) ✓ Practical Deep Learning with PyTorch (Udemy: License UC-NOWEU0LM) ✓ Deep Learning A-Z™: Hands-On Artificial Neural Networks (Udemy: License UC-GVEFQUT1) ✓ Convolutional Neural Networks (Coursera: License ZXKVAMFQDYPT) ✓ Improving Deep Neural Networks: Hyperparameter tuning, Regularization and Optimization (Coursera: License KFYQLKRYMN2R) ✓ Neural Networks and Deep Learning (Coursera: License D3M4M95KW3JH) ✓ Structuring Machine Learning Projects (Coursera: License 6T68J8DSKTS6) ✓ Image and video processing from mars to Hollywood with a stop at hospital (Coursera) Achievements: ✓ Received employee of month award for contribution in commercialization of sports analytics solution ✓ Stood as one of the best managers in reportee feedback survey at group level ✓ Received spot award for presentation on “Introduction to touch technology” ✓ Received Samsung System LSI Group (SLG) best performer (platinum) award for the design and development of touch algorithms ✓ Received group level annual award for the contribution in touch sensing algorithms ✓ Received half yearly stylist award for design & development of touch co-ordinate extraction solution ✓ Won special recognition award in Samsung for excellent execution of SVC codec ✓ Won League of Titans award in TI for very good execution of DM365 codecs ✓ Received Gold medal in B.Tech Patents/Publications: ✓ “System and method for estimating location of a touch object in a capacitance touch panel”, Publication number: 20180032170 ✓ Filed patent “Method for dynamic access configuration and secure UI with finger print on displays” ✓ Filed patent “3D location estimation in proximity of touch panels” ✓ Samsung Best Paper Award Conference on “High precision multi finger tracking algorithm” ✓ “Touch sensor controller and method for driving the same” Publication number: 20150169123 ✓ Samsung tech conference Techaton-2014 on “Intra coding efficiency improvement through de-multiplexed block processing” ✓ Patent on “SCALABLE VIDEO CODING AND DEVICES PERFORMING THE SCALABLE VIDEO CODING” IPC8 Class: AH04N712FI, upsc class: 37524012, Patent application number: 20120213275 ✓ Samsung tech conference on “Efficient design for carry propagation in bool coder in Vp8 encoder” Work Experience: Company Designation Duration Samsung R&D Institute. Bangalore, India Principal Engineer Mar 2015 – till date Senior Chief Engineer Apr 2013 – Feb 2015 Chief Engineer Apr 2011 – Mar 2013 Lead Engineer Jan 2010 – Mar 2011 Texas Instruments Pvt. Ltd., Bangalore, India Senior Software Engineer Jan 2008 - Jan 2010 Allgo Embedded Systems Pvt. Ltd., Bangalore, India Software Engineer Jun 2005 – Jan 2008 Project work: Domain Project Description/Roles & Responsibilities Company/Duration Deep Learning Human Fall Detection Human fall detection using dynamic vision sensor (DVS) for home IoT • Product requirement definition • On device deep learning based (CNN- LSTM) solution architect for elderly care service • Human posture detection solution architect for post fall analysis Samsung R&D Institute Bangalore, India. Apr. 2015 ~ Till date Mini Projects • Facial key points detection • Image captioning • Dog breed classifier • Face Generation • Generate TV Scripts • Teach a Quadcopter How to Fly Fingerprint on Display Fingerprint verification solution architect for low resolution fingerprint on display devices • Signal reconstruction techniques, semi supervised learning using auto encoders, convolutional neural networks, Pattern matching techniques to build fingerprint verification system Fingerprint Anti spoofing Fingerprint anti spoofing solution • Feature extraction and Support vector machine (SVM) Machine Learning Wake up gesture recognition algorithms Wake up gesture recognition solution architect for touch panels • Dynamic time warping based recognition Samsung R&D Institute Bangalore, India. Jan. 2012 ~ Mar. 2015 Touch status classification algorithm Touch mode classification (finger/stylus/glove/hover) solution architect • Feature extraction and Random forest to classify touch mode Wet finger tracking algorithms Wet finger tracking algorithm • Wet finger touch solution design and development for capacitance touch panels • Algorithm design & benchmarking • Firmware optimization on Cortex-M3 Proximity sensing algorithms R-Touch algorithm to identify 3D location of finger in proximity of touch panels • The solution includes principle component analysis, Gaussian mixture models and Gaussian process regression • Firmware optimization on Cortex-M3 Multi finger tracking algorithms Multi finger tracking solution architect • Kalman filter-based algorithm design and development for 10 fingers tracking Elliptical parameter extractions for finger touch Finger orientation estimation algorithm • Finger size and orientation estimation using singular value decomposition, Low noise Integration algorithm Integration algorithm for differential touch sensor AFEs. • Signal processing filtering approaches Jitter suppression algorithms Algorithm to smooth jitter in finger drag due to noise. • Kalman filter-based smoothing Touch location estimation algorithms High precision touch coordinate extraction algorithm with 1mm diameter stylus • Solution architect • Multi-rate signal processing approach to estimate touch coordinates Video processing Real Video 8/9 Decoder Structured C-model for Real Video decoder for video ip Multi format codec (MFC7.1) • C-model architecture design and development Samsung R&D Institute Bangalore, India. Jan. 2010 ~ Dec. 2011 H.264 Professional profile Encoder and Decoder Structured C-model for H264 High4:2:2 and High4:4:4 profiles for Multi format codec (MFC8.0). • C-model architecture design and development • Bandwidth analysis and data organization in memory SVC Encoder and SVC Decoder Structured C-model for SVC codec for Multi format codec (MFC7.0) • C-model architecture design and development • Rate distortion algorithm design and quality analysis • SVC bandwidth analysis • Proposals for SVC layer switching methods Multi view coding MVC standard feasibility study for multi format codecs H.264 HP Video encoder on DM365/DM375 H264 High Profile video encoder to encode 1080p/30fps resolution video sequences in real time. • Upgrading Base Profile Encoder code to High Profile. • Addition of interlaced encoding. • ARM and DMA Optimizations to meet the performance requirements • Quality Fine tuning wrt rate control algorithms • High profile features addition Texas Instruments Jan 2008 ~ Jan 2010 Image processing Image Denoise Image denoise using wavelet • Algorithm design using wavelet-based techniques and development on ARM11 Allgo. Embedded Systems Jan 2006 ~ Jan 2008 Video processing H.264 BP Video encoder Rate distortion algorithm design and development for mode decision in H.264 Baseline Profile Video Encoder. H.264 HP Video Decoder The efficient design of H.264 High Profile Video Decoder for Silicon Hive 2-tile Architecture. • Stream processor instructions design for efficient implementation of CABAC on silicon Hive Architecture. • Efficient Implementation of HP decoder parsing and CABAC. Audio processing 3D Audio Using Loud Speakers Creating 3D-Audio illusion using just two speakers. • Inverse filter design for cross talk cancellation. • Filters design for stereo widening, surround sound effect. WMA Decoder Optimal implementation of IMDCT module of WMA Decoder on ARM9E Signal processing Sample rate converter Sample rate converter among all Mpeg frequencies • Multi-rate signal processing-based algorithm design and development ARM9E and ARM11 Speech processing Speaker Identification Speaker identification using novel modified group delay features and Gaussian mixture models for classification IIT Madras Jan 2005 ~ May 2005 Personal Details: Date of Birth 21 Nov 1982. Current Address #16, 3rd cross, Nanja Reddy Colony, Murugesh Palya, Bangalore, Karnataka – 560 017.',\n",
       "  {'entities': [(0, 15, 'Name'),\n",
       "    (119, 130, 'Mobile'),\n",
       "    (43, 65, 'Email'),\n",
       "    (1155, 1585, 'Skills'),\n",
       "    (1028, 1058, 'College Name'),\n",
       "    (998, 1002, 'Graduation Year'),\n",
       "    (1003, 1011, 'Degree'),\n",
       "    (1066, 1072, 'Location'),\n",
       "    (66, 107, 'Linkedin'),\n",
       "    (2273, 3036, 'Achievements'),\n",
       "    (3054, 3906, 'Patents/Publications'),\n",
       "    (1073, 1077, 'CGPA'),\n",
       "    (3965, 4335, 'Work Experience'),\n",
       "    (4419, 9458, 'Projects'),\n",
       "    (1604, 2256, 'Certifications')]}),\n",
       " (\"Aakash Sharma Data Scientist Working as a data scientist in a ﬁntech company provides real-life exposure in diﬀerent Analytical Models. And takes pride in building models that translate data points into business insights. aakashsharma804@gmail.com +91 9711710493 Bangalore, India linkedin.com/in/aakashsharma804 live:aakashsharma804 github.com/aakash804 WORK EXPERIENCE Junior Data Scientist Sub-k IMPACT Solutions Ltd. 03/2020 - Present, Hyderabad ,India Formaly known as, BASIX SUB-K ITRANSACTION LTD. Leading and setting up Data Warehouse as a Data infrastructure Architect to Migrate complete Database into AWS. Build Financial Machine Learning Models Independently like Fraud Detection, Customer/Agent Segmentation, Credit Scoring Tool etc. and deployed successfully into the Platform. Analytical Support to Senior Management across all business verticals. Credit Risk Modelling (Using PD, LGD and EAD), Forecasting Models, etc. on MSME and MFI Lending space using Python. Building Dashboards using Power BI. Analysis through SQL and MongoDB and Creating Alerts and Automation using Python. Assistant Software Engineer ITS MY NAME PVT LTD 06/2017 - 04/2019, Delhi, India Delhi based startup company Design and build advanced applications with the .NET platform using c#, javascript, SQL, MVC Collaborate with cross-functional teams to deﬁne, design, and ship new features Work on bug ﬁxing and improving application performance Continuously discover, evaluate, and implement new technologies to maximize development eﬃciency Design and development UI for diﬀerent orientations PROJECTS Predict The Case Count organised by LTFS Data Science FinHack (01/2020 - 01/2020) Project on Lung Cancer classiﬁcation using Keras (01/2020) Project on Image Classiﬁcation (MNIST dataset) using tensorﬂow (01/2020 - Present) Check 15+ more Projects on my github/Linkedin proﬁle EDUCATION Post Graduate Diploma in Data Science, Machine learning and AI Manipal Academy of Higher Studies 07/2019 - Present, Bangalore, 8.9 CGPA Bachelors of Computer Application Guru Gobind Singh Indraprastha University 08/2014 - 07/2017, Delhi , 7.9 CGPA SKILLS python Machine Learning Natural Language Processing Data Analysis Statistical Analysis Data Scraping Power BI/Tableau Hive Hadoop Tensorﬂow AWS Keras Deep Learning (ANN, CNN, RNN) Mongodb (Basics) SQL pyspark ACHIEVEMENTS Hackerearth Doing Hackathons Analytic Vidhya Doing Hackathon and Written DSAT (42) Kaggle Doing Hackathon and got rank 39th MachineHack Doing various Hackathon and got good rank Meetup Attending meetup's related to AI CERTIFICATES IBM Data Science Professional Certiﬁcate Coursera Introduction to Apache Spark MapR Technologies Applied Machine Learning Alberta Machine Learning Institute (amii) Solution Architect AWS LANGUAGES English Full Professional Proﬁciency German Limited Working Proﬁciency Hindi Native or Bilingual Proﬁciency Achievements/Tasks Achievements/Tasks\",\n",
       "  {'entities': [(0, 14, 'Name'),\n",
       "    (252, 262, 'Mobile'),\n",
       "    (222, 247, 'Email'),\n",
       "    (2133, 2341, 'Skills'),\n",
       "    (1917, 1974, 'College Name'),\n",
       "    (1983, 1990, 'Graduation Year'),\n",
       "    (1878, 1913, 'Degree'),\n",
       "    (1994, 2002, 'Location'),\n",
       "    (280, 310, 'Linkedin'),\n",
       "    (2355, 2572, 'Achievements'),\n",
       "    (2005, 2008, 'CGPA'),\n",
       "    (370, 1581, 'Work Experience'),\n",
       "    (1591, 1867, 'Projects'),\n",
       "    (2586, 2908, 'Certifications')]}),\n",
       " ('ADARSH MAMIDPELLIWAR DATA SCIENCE, ML, DL, ANALYTICS Mobile : +91 9403875216 \\uf0f7 E-Mail : adarshmamidpelliwar@gmail.com LinkedIn : https://www.linkedin.com/in/adarsh-d-mamidpelliwar \\uf0f7 GitHub : https://github.com/adarshm93 An Overview Certified “Business Analytics Professional” with 1.5+ years of experience in Business Analytics, Project, Quality and Process Management. Working with Innodatatics Inc. as Associate Data Scientist. A thorough implementer with abilities in Business Analytics, Project management, Quality management focusing on maximizing customer satisfaction, process compliance and business value articulation; comprehensive experience in leading teams & multiple projects. A result-oriented leader with expertise in devising strategies aimed at enhancing overall organisational growth, sustained profitability of operations and improved business performance. Adept at mapping client’s requirements, custom designing solutions & troubleshooting for complex information systems management; acting as an escalation gate to resolve critical issues of the team members. Possess commendable interpersonal, communication & organizational skills with proven abilities in team management, customer relationship management & effective crisis management. Competencies Matrix Project Management: Planning project activities viz., scoping, estimation, tracking, change management, delivery management & support. Implementing project plans within preset budgets and deadlines. Mapping clients’ requirements and providing them effective solutions involving evaluation and definition of scope of project and finalisation of project requirements. Undertaking responsibilities of removing less logical procedures in processes thereby reducing processing time. Service Delivery: Defining service standards and quality guidelines as per ISO that serve as benchmark for excellent service delivery. Laying down framework for work direction and staff planning post thorough assessment of staff capabilities. Preparing & presenting various weekly/monthly MIS reports pertaining to process and productivity. Ensuring end- to-end ownership of incidents and service requests. Meeting deadlines and turnaround time without compromising quality norms and adhering to SLA. Mapping business requirements & coordinating in developing & implementing processes in line with guidelines. Quality & Compliance: Ensuring that teams adhere to all the quality tools & procedure implementation. Administering the process improvement of Quality on certain parameters for increasing the quality standards, reducing the critical errors by calibrating with the team supervisors and quality -auditors. Conducting internal process audits & process reviews for ensuring strict adherence to the process parameters/systems as per defined guidelines. Client Relationship Management: Building and maintaining healthy business relations with corporate clients, ensuring customer satisfaction by achieving delivery & service quality norms. Supervising customer service operations for rendering and achieving quality services; facilitating first line customer support by answering queries & resolving issues within TAT. Team Management: Identifying and implementing strategies for building team effectiveness by promoting a spirit of cooperation between team members. Recruiting teams and determining training needs of employees to enhance their operational efficiency leading to increased productivity. Organisational Scan Feb’ 19 – Till Date: Innodatatics Inc., Hyderabad as Associate Data Scientist \\uf096 Working on data analytics, advanced analytics projects and good knowledge in various analytical techniques improvements. \\uf096 Exposure to data mining techniques like clustering, market basket analysis, developing association rules. \\uf096 Working on machine learning algorithms like SVM, decision trees, Knn, Naïve Bayes, artificial neural networks, ensemble methods, text mining. \\uf096 Knowledge in building prediction models using simple linear regression, multiple linear regression analysis, logistic regression analysis techniques, and forecasting techniques using ARIMA methodology. \\uf096 Experience in building Deep Learning models like CNN, RNN, and NLP. Project: Bird Species Classification using Deep Learning Client Information: Client is a leading Animal conservation firm in Malaysia providing services to corporate sector. Project Objective: The objective of this project is to deploy good quality software which correctly identifies the bird species from an image and gives appropriate results. Our aim is to identify bird species by giving an image as an input to the software and which give us result as name of the predicted bird species. Methods and Algorithms: Keras, Pretrained model, Data Augmentation, Transfer Learning. Program Layout: In this project, VGG-16 pretrained model is used to classify image. Tried various Python Libraries like OpenCV, Keras, TensorFlow. Dataset consist of 50 species; all images are 224 X 224 X 3 colour images in jpg format. Responsibilities: Performed Data Augmentation, checked for different Activations functions, optimizers and extracted the bottleneck features of the images to classify the species type. Business Impact: For beginners, the software will be of great help because at the early stages of bird-watching, identifying or differentiating between different species can be difficult and frustrating. To experienced bird-watchers also this model will majorly help in identification. Project: Information Retrieval using NLP Client Information: Client is leading entrepreneur in ecommerce sector. Project Objective: Based on the text question, the NLP algorithm should retrieve 5 most relevant responses from the corpus with rankings. It will easy to access and easy to view relevant responses containing that specific word. Methods and Algorithms: Text Cleaning, Sentimental Analysis, Ngram TFIDF, LDA. Program Layout: In this project, the Whoosh Algorithm is used and TFIDF. Tried various Python Libraries like parser, schema. We performed Sentimental Analysis, for this we used Uni-gram, Bigram, working on LDA, so when we type a word then it will show the output with 5 most relevant responses. Responsibilities: Worked on Cleaning the text data, Tokenisation, Name Entity Recognition and Whoosh Package. Business Impact: Achieved client’s primary requirement of retrieving their responses and provide impactful analytical solution to improve their business and also automated their performance and finding search queries. Project: Predict Electric Motor Temperature Project Objective: Predict Motor Temperature based on other attributes available. It will reduce maintenance and will increase the lifespan of the motor. Methods and Algorithm: Data Cleansing, Regression, Random Forest, Xgboost Regression, Adaboost Regression, Light GBM. Program Layout: - In this project, Linear Regression and Ensemble technique is used to build the models and predict temperature. We used various python libraries like Keras, sklearn and TensorFlow. We performed EDA, normalization, label encoding and build various models and achieved an accuracy of 98.11%. Responsibilities: Worked on Model Building and Evaluation of the models. Business Impact: With the implementation of the Machine Learning Algorithm we were able to predict the temperature of motor, in turn which successfully enhanced the company’s target meeting capability and ensuring the safety of motor and hence minimizes the loss. Project: Fraud Warranty Claims Project Objective: The client wanted to predict whether the customer claims the warranty for the product is Fraud or Genuine. So that it will reduce the loss amount for the company. Methods and Algorithms: Data Cleansing, Feature Selection, Cross-Validation, XGboost, Random Forest, Hyperparameter Tuning. Program Layout: In this Project, Classification Techniques like Ensemble method to build models is used. We used various python libraries like sklearn, seaborn. We performed data cleansing, EDA, Standardization, Feature Selection and Build models by using Random Forest, XGBoost. We did Hyperparameter Tuning to increase the accuracy of the final model. We got the accuracy of 96.23%. Responsibilities: Worked on Data Cleaning, Data analysis and Balancing Techniques and model building. Business Impact: We were able to improve/predict the customer claims and retain customers from churning and minimizing the loss to the company. Professional Skills \\uf096 Statistics - Probability Theory, Hypothesis Testing, Time-series Analysis, Statistical Modelling, Data Visualization, Data Analysis. \\uf096 Machine Learning - Algorithms for Regression, Classification Techniques (Decision Trees, Random Forest, Naive Bayes, K- NN), Clustering, Neural Network, Forecasting System. \\uf096 Deep Learning - ANN, CNN, RNN, LSTM. \\uf096 Python - ML Algorithms, Packages like NumPy, Pandas, NLTK, SciPy, Scikit-Learn, Stats models, Matplotlib, Seaborn, Keras, TensorFlow. \\uf096 Natural Language Processing - Text Mining, Web Scrapping, Sentiment Analysis. Professional Trainings & Credentials \\uf096 Certified in Data Science Foundation – IBM (L1 & L2). \\uf096 Certified in Data Science – Excelr Solutions, Hyderabad (09/2018). Academic Credentials 2017 Master of Technology – EC from BIT Engineering College, Maharashtra (Percentage – 68%) 2014 Bachelors of Engineering – ENTC from Government College of Engineering, Maharashtra Awards & Recognition \\uf096 Certificate of appreciation for doing volunteer ship for National Cancer Control Program held by NGO Cancer Aid Society. \\uf096 Inter-College cricket tournament and tug of war winner Award. Personal Dossier Date of Birth : 21st June, 1993 Residential Address : 60 Feet Road, Ayyappa Society, Madhapur, Hyderabad-500081 Linguistic Abilities : English, Hindi & Marathi Location Preference : Hyderabad I hereby, declare that the above information is true to the best of my knowledge. Adarsh Mamidpelliwar.',\n",
       "  {'entities': [(0, 20, 'Name'),\n",
       "    (66, 77, 'Mobile'),\n",
       "    (88, 117, 'Email'),\n",
       "    (8495, 9056, 'Skills'),\n",
       "    (9277, 9300, 'College Name'),\n",
       "    (9241, 9245, 'Graduation Year'),\n",
       "    (9246, 9271, 'Degree'),\n",
       "    (9742, 9751, 'Location'),\n",
       "    (129, 174, 'Linkedin'),\n",
       "    (9445, 9628, 'Achievements'),\n",
       "    (1073, 1077, 'CGPA'),\n",
       "    (3487, 4212, 'Work Experience'),\n",
       "    (4419, 9458, 'Projects'),\n",
       "    (9097, 9218, 'Certifications'),\n",
       "    (4223, 8471, 'Projects')]}),\n",
       " ('Amit Bisht +91 9879144619 amitbisht51@live.com A data science enthusiast with overall 4 years and 8 months of expereince in IT industry. I possess building end to end machine learning pipeline and driving key insights through impactful dashboards. I have good understanding of Microsoft on premise and cloud Azure data factory tools. Experience September/2018 to Present HCL Technologies Lead Engineer, Noida Work Force Management(WFM) • Microsoft has hundreds of tools across the world in various categories, therefore multiple incidents are raised everyday ranging from services outage in commercial domain to hardware related issued in consumer domain. • Client wants to forecast the volume of tickets generated, two years in advance. So that, it can mobilize its 40,000 workforce well in advance. And keep them prepared for any outage/incident that may occur anywhere across the globe. • We have design and developed the Volume Forecasting for customer services support volume across businesses using Machine Learning techniques such as Auto ARIMA, Stl Arima, GLM,GLS and DLM. • Design unified schema to deliver one source of truth to all forecasting leads. The data is scheduled daily to download from the client’s server, viz lighthouse and CSSODE server. The process is automated using SQL Server Agent job. • The control/data flow package is designed in SSIS. And also, configured for full load and incremental load. • When the forecasting is done for subsequent months. The Actual data is validated and this process is termed as Volume lock. • Variance Reports are created to track variance to forecast for the validation of forecast with the volume lock data. • A complete pipeline is created in azure data factory, to provide business owners a single point of contact to forecast data for their business units. Technical Skills • Azure Data Factory • Machine Learning • NLP • Deep Learning • Forecasting/Time series Analysis • Power BI • SQL Server 2016 • Python • SSIS • JIRA • Jenkins • GitHub • Unix • C++11 Education NIRMA UNIVERSITY | M.TECH Mechanical Engineering, 8.34/10 2013-2015 | Ahmedabad, India UPES | B.TECH Aerospace Engineering, 2.7/4 2008-2012 | Dehradun, India H.S.C (CBSE) | 2007-2008 76.60 PERCENTAGE S.S.C (CBSE) | 2005-2006 78.80 PERCENTAGE Courses • Coursera – University of Washington, ML • Udemy – Data Science Bootcamp for beginners • Classroom training for Big Data Technologies from ETL Hive, Pune. Co-curricular Activities • Runner up of NIRMA University M.Tech cricket league tournament 2015 • Winner of NIRMA University Fresher’s cup volleyball tournament 2014. • Runner up in Intra University Cricket tournament, 2010. Personal Details Current Company: HCL Tech. Location : Noida, UP Status : Married DOB : 10th Mar 1991 February/2016 to April/2018 Cognizant Technology Solution Programmer Analyst, Pune Feed Transformation Engine, Elektron • Thomson Reuters Elektron is a suite of data and trading propositions, including low latency feeds along with the analytics, enterprise platform and transactional connectivity to support any workflow application. • All of these capabilities can be deployed at a customer location or delivered as a fully managed service from any one of our co-location and proximity hosting sites around the globe. • I was part of the team which developed FTE (Feed Transformation Engine) for Elektron.FTE has three modules Line Interface and Message Decoder includes connection with the exchange and mapping of the market data with the field Id’s. • Lookup module stores the identification for future reference of the market data. Where each transaction has a unique system identification, which is then converted to a Reuters identification code. The conversion logic is provided to us by the business analyst. • Transform is mostly business logic and was provided by the client and we had to integrate with our other two modules. • The libraries are then deployed into the development box, to carry out the testing from my end. And in parallel the QA team starts testing the libraries with their pre-defined tests. • Any bug raised through JIRA is then resolved by the development team and QA team rechecks the functionality to finally close the ticket in JIRA. • The final libraries are then deployed in the client side soak box, where the client tests the libraries with their test cases.',\n",
       "  {'entities': [(0, 10, 'Name'),\n",
       "    (11, 25, 'Mobile'),\n",
       "    (26, 46, 'Email'),\n",
       "    (1841, 2021, 'Skills'),\n",
       "    (2032, 2048, 'College Name'),\n",
       "    (2090, 2099, 'Graduation Year'),\n",
       "    (2051, 2057, 'Degree'),\n",
       "    (2058, 2081, 'Branch'),\n",
       "    (2717, 2726, 'Location'),\n",
       "    (2284, 2436, 'Courses'),\n",
       "    (2465, 2660, 'Achievements'),\n",
       "    (2082, 2088, 'CGPA'),\n",
       "    (345, 345, 'Work Experience'),\n",
       "    (2764, 2846, 'Work Experience')]}),\n",
       " ('ANURUP CHOWDHURY anurup.chowdhury@praxis.ac.in +91 8910190157 www.linkedin.com/in/anurupch EDUCATION PGPDS 2019 Praxis Business School 5.66/8 B. Tech 2014 Electronics & Instrumentation Engineering Techno India College of Technology 7.71/10 XII (CBSE) 2010 Bharatiya Vidya Bhavan 83.20% X (CBSE) 2008 Bharatiya Vidya Bhavan 87.00% SKILLS SQL 3.5/5.0 PLSQL 3.5/5.0 Unix 3.0/5.0 Python 3.0/5.0 CERTIFICATIONS \\uf0b7 Machine Learning A-Z: Hands-on Python & R in Data Science(Udemy) EXPERIENCE EDGEVERVE SYSTEMS LTD(INFOSYS) OCT, 2014 – JUNE, 2017 Systems Engineer Domain: Finacle Banking Software \\uf0b7 Client: UBS Bank, China o Development & customization of different loans menus & jasper reports. Reports were made using IReport tool and PLSQL. o All round development from frontend to backend was done. Worked in a virtual environment using unix. \\uf0b7 Client: DBS Bank, Singapore o Created multiple jasper reports for different types of transactions in mutual funds like subscription, redemption & SIP. o Modification and application of different business logic in existing finacle scripts. Thorough testing from UTP to sanity to UAT was done for each and every requirement ALLIED RADIATORS CORPORATION JULY, 2017 - DEC, 2018 Junior Engineer Domain: Manufacturing \\uf0b7 Supervision of production of Transformer Oil coolers. Final test to check whether the transformer oil is cooled according to industry standards. ANALYTICS PROJECTS PREDICTING LOAN BORROWER DEFAULTING OR NOT Source: Kaggle Tools Used: Python Problem Statement: To predict a borrower defaulting on a vehicle loan in the first EMI on the due date. Approach: Performed exploratory data analysis to find relations between the predictors and the target variable in the dataset. Imputation of missing values was done. 40 predictors were used for building the model. For this use case, I have applied decision tree and random forest classifiers. In case of decision tree, the cross-validation score was 0.64 and for random forest it was 0.75. PREDICTING THE PRICE OF A FLIGHT TICKET Source: Machinehack Tools Used: Python Problem Statement: To predict the price of a flight ticket between the months of March and June of 2019. Approach: Performed exploratory data analysis to find relations between the predictors and the target variable in the dataset. 10 predictors were used for building the model. For this use case, I have applied decision tree regressor and bagging ensemble technique. In case of decision tree, the cross-validation score was 0.78 and for bagging method it was 0.88.',\n",
       "  {'entities': [(0, 16, 'Name'),\n",
       "    (47, 61, 'Mobile'),\n",
       "    (17, 46, 'Email'),\n",
       "    (337, 390, 'Skills'),\n",
       "    (197, 231, 'College Name'),\n",
       "    (150, 154, 'Graduation Year'),\n",
       "    (142, 149, 'Degree'),\n",
       "    (62, 90, 'Linkedin'),\n",
       "    (232, 239, 'CGPA'),\n",
       "    (484, 1398, 'Work Experience'),\n",
       "    (1418, 2534, 'Projects'),\n",
       "    (408, 472, 'Certifications')]}),\n",
       " ('ARTI KUMARI � k.artiism06@gmail.com � 91-8233366371 � linkedin.com/in/arti-gupta-41993316b � github.com/artirocks HONORS & AWARDS • ISMAA BEST SPORTS PERSON AWARD 2018 on 39th Annual Convocation IIT (ISM) Dhanbad. • Bestowed with Women Best Athlete Award 53rd Inter IIT Sports Meet 2018 IIT Guwahati. o Bagged Gold medals in 400m, 800m, 1500m race. • Bestowed with Best Athlete Award 89th , 90th Annual Sports 2017-18 IIT (ISM) Dhanbad. o Bagged Gold medals in 400m, 800m, 1500 m race. • Winner of 23th ,24th NVS National Handball Championship 2012,2013. PROJECTS Nao a Humanoid Robot kicks Red Ball • Programmed a humanoid robot so as to detect a red ball and kick it using opencv, naoqi and choregraphe. Best Advertisement Prediction • A model to predict best advertisement among all of them to maximize their proﬁt using UCB, Thompson Sampling. Review Predictor • A model which predicts review is a positive review or negative review using NLP. Classiﬁcation of images • A model which predicts about the images whether it is of ball, dogs or humans using CNN, ANN. Store layout design and visual merchandising • A model which predicts how to arrange the items in a mall to maximize their proﬁt after analyzing the bills of their customers using Association Rule Learning, Apriori. POSITION OF RESPONSIBILITIES • Member of Gymkhana committee of IIT (ISM) DHANBAD. • Member of Sports Council of IIT (ISM) DHAN- BAD. • Coordinator of Athletics club of IIT (ISM) DHANBAD. • Girls’ Sports Nominee of IIT (ISM) DHANBAD INTERESTS AND HOBBIES • Data Science, Deep Learning, Data Analytic, Playing sports and Games, Building up Public Relations. WORK EXPERIENCE Deep Learning Intern Bennett University under LeadingIndia.ai � June 2019 - July 2019 � Greater Noida,India • Recognition of Crop categories using Hyper spectral Images of North Dakota taken by Landsat satellite. Data Science Internship CSIR CDRI � May 2019 - July 2019 � Work from Home • Worked on Education Data Base building. • Mined data of all the faculty members and administrative of all central medical colleges of India and North Florida. Campus Ambassador Internshala � May 2019 - August 2019 � Work from Home • Face of Internshala in college. ACHIEVEMENTS • Amongst top 10 of meritorious student of branch. • Secured 2 Rank in MOTION TALENT SEARCH EXAM , 2015. • Secured 37 out of 2700 Rank in She Codes,Indeed Challenge , 2019. TECHNICAL PROFICIENCY ○ ○ ○ ○ ○ ○ ○ ○ ○ ○ ○ ○ ○ ○ ○ C++, Python, C, MySQL, Machine Learning OOPs, Deep Learning, Data Scraping HTML, CSS, DGX-1 V100 EDUCATION / COURSES B.Tech Electronics and Communication Engineering IIT (ISM) Dhanbad � July 2017 – present CGPA 8.64/10.00 Senior Secondary Examination J.N.V. Khairthal Alwar (CBSE) � April 2015 -May 2016 92.60 % Higher Secondary Examination J.N.V. Khairthal Alwar (CBSE) � April 2013 -May 2014 CGPA 10.00/10.00 Fundamentals of Deep Learning for Computer Vision, NVIDIA Deep Learning Institute Machine Learning A-Z Hands – On Python and R in Data Science, Udemy',\n",
       "  {'entities': [(0, 11, 'Name'),\n",
       "    (38, 51, 'Mobile'),\n",
       "    (14, 46, 'Email'),\n",
       "    (2448, 2545, 'Skills'),\n",
       "    (2614, 2619, 'College Name'),\n",
       "    (2639, 2643, 'Graduation Year'),\n",
       "    (2565, 2671, 'Degree'),\n",
       "    (2624, 2631, 'Location'),\n",
       "    (54, 90, 'Linkedin'),\n",
       "    (93, 113, 'Github'),\n",
       "    (132, 553, 'Achievements'),\n",
       "    (2659, 2669, 'CGPA'),\n",
       "    (1554, 2208, 'Work Experience'),\n",
       "    (564, 1282, 'Projects')]})]"
      ]
     },
     "execution_count": 69,
     "metadata": {},
     "output_type": "execute_result"
    }
   ],
   "source": [
    "training_data"
   ]
  },
  {
   "cell_type": "code",
   "execution_count": 65,
   "id": "0237c9a0",
   "metadata": {
    "scrolled": true
   },
   "outputs": [
    {
     "data": {
      "text/plain": [
       "\"R tool R Shiny Python Flask ashwingeorge07@gmail.com 8921976440 Calicut, Kerala, India SKILLS Python programming EDUCATION M. Sc. Big Data Analytics St. Joseph's College of Arts and Science,Bengaluru 06/2019-Present, Marks(%) : 79.7% (Up to secondsemester) Karnataka,India Bachelor of Computer Applications Christ (Deemed to be University), Bengaluru 06/2016-03/2019, Marks(%) :78.68% Karnataka,India Pre-University St. Joseph's Higher Secondary School, Calicut 06/2014-03/2016, Marks(%):98.33% Kerala,India Course Computer Science Statistics MySQL PERSONAL PROJECTS Stay Sane, an AI chatbot to detect mental illness (07/2020 - Present) A platform on which people can converse with a chatbot that uses these text conversations to detect mental illness. The application is built using Python based on the concept of Recurrent Neural Networks. The project is on progress at St. Joseph’s College of Arts and Science,Bengaluru. 'Who'man?, a platform to estimate human pose in images (01/2020 - 04/2020) An application that analyses an image and detects the poses of any human in the picture. It is done by identifying and marking one's major body parts such as the different limbs and joints. The project is developed using Python based on the concept of Convolutional Neural Networks. It was completed at St. Joseph's College of Arts and Science,Bengaluru. LANGUAGES Malayalam Native or Bilingual Proficiency English Full Professional Proficiency Hindi Elementary Proficiency German Elementary Proficiency In short, a platform to extract and summarize text (01/2020 - 02/2020) An application that summarizes text in any image. It involves uploading an image, extracting Text from the image and summarizing the text. The application is built in python using librariessuch as ‘pytesseract’ to extract text and ‘gensim’ to perform text summarization. The project was completed at St. Joseph’s College of Arts and Science, Bengaluru. CAA polls, a platform to analyse tweets on CAA (01/2020 - 03/2020) An application that analyses live tweets on any topic from twitter and outputs a binary sentiment, Positive or Negative. It was specifically done to analyze the public's take on CAA (Citizen Amendment Act) policy proposed in 2019. The project is built using Python based on Naive Bayes classification. It was completed at St. Joseph's College of Arts and Science,Bengaluru. Forecaster, to predict temperature in Bengaluru (11/2019 - 02/2020) An application that predicts the temperature in Bengaluru based on the past ten years of data of temperature and few other climatic factors. The application is developed using R based on the concept of Vector Auto Regression and was completed at St. Joseph's College of Arts and Science,Bengaluru Cafeteria Management System (11/2018 - 02/2019) A web application developed using PHP at Christ (Deemed to be University), Bengaluru, exclusively for the cafeterias within the college. It has a ‘customer dashboard’ for students to place orders and a ‘cafeteria dashboard’ that helps owners to manage the orders received. Ashwin George An aspiring Data Scientist A highly motivated individual and a team player equipped with strong programming skills, who loves to indulge in solving analytical problems and scraping insights. HTML CSS Natural Language Processing Machine Learning Deep Learning Hadoop INTERESTS Car Pooling System (11/2017 - 02/2018) A web application built using PHP that puts forward the idea of sharing a cab ride by multiple customers if their destination is common or if it lies in the same route. This helps customers to save money and also decreases pollution by minimizing the use of vehicles. The project wascompletedatChrist(DeemedtobeUniversity),Bengaluru. WORK EXPERIENCE Intern Aabasoft Technologies, Cochin, Kerala 04/2018 - 05/2018 Achievements/Tasks Introduced to the technology of Internet Of Things (IOT) Learnt to use and process the inputs from different sensors using Arduino. Completed an IOT project of building an IOT enabled robotic car that functions using Arduino based on the inputs from a mobile device received through a wireless medium. VOLUNTEER EXPERIENCE A volunteer of “Sigma - Squared”, an organization of the Department of Big Data Analytics, St. Joseph’s College, Bengaluru. (06/2019 -Present) A volunteer of “Student Welfare Office”, a team of student volunteers at Christ (Deemed to be University), Bengaluru. (10/2016 - 03/2019) A volunteer of the National Service Scheme (NSS), a central government-sponsored public service program, at St. Joseph’s Higher Secondary School, Calicut, Kerala. (06/2014 - 03/2016) Music Movies Games\""
      ]
     },
     "execution_count": 65,
     "metadata": {},
     "output_type": "execute_result"
    }
   ],
   "source": [
    "txt_Ashwin"
   ]
  },
  {
   "cell_type": "code",
   "execution_count": 68,
   "id": "bc552ac9",
   "metadata": {},
   "outputs": [
    {
     "data": {
      "text/plain": [
       "1354"
      ]
     },
     "execution_count": 68,
     "metadata": {},
     "output_type": "execute_result"
    }
   ],
   "source": [
    "txt_Ashwin.index('LANGUAGES') "
   ]
  },
  {
   "cell_type": "code",
   "execution_count": 61,
   "id": "8888719c",
   "metadata": {},
   "outputs": [],
   "source": [
    "entity_Ashwini={'entities': [(0, 11, 'Name'),\n",
    "    (38, 51,'Mobile'),\n",
    "    (14, 46, 'Email'),\n",
    "    (2448, 2545, 'Skills'),\n",
    "   (2614, 2619, 'College Name'),\n",
    "   (2639, 2643, 'Graduation Year'),\n",
    "   (2565, 2671, 'Degree'),\n",
    "   (2624, 2631, 'Location'),\n",
    "   (54, 90, 'Linkedin'),\n",
    "   (93,113,'Github'),\n",
    "(132, 553, 'Achievements'),\n",
    "(2659,2669,'CGPA'),\n",
    "(1554, 2208, 'Work Experience'),\n",
    "(567, 1352, 'Projects'),]}"
   ]
  },
  {
   "cell_type": "code",
   "execution_count": null,
   "id": "8fcb85c5",
   "metadata": {},
   "outputs": [],
   "source": [
    "entity_Kareem={'entities': [(0, 15, 'Name'),\n",
    "    (119, 130,'Mobile'),\n",
    "    (43, 65, 'Email'),\n",
    "    (1155, 1585, 'Skills'),\n",
    "   (1028, 1058, 'College Name'),\n",
    "   (998, 1002, 'Graduation Year'),\n",
    "   (1003, 1011, 'Degree'),\n",
    "   (1066, 1072, 'Location'),\n",
    "   (66, 107, 'Linkedin'),\n",
    "(2273, 3036, 'Achievements'),\n",
    "(3054, 3906, 'Patents/Publications'),\n",
    "(1073,1077,'CGPA'),\n",
    "(3965, 4335, 'Work Experience'),\n",
    "(4419, 9458, 'Projects'),\n",
    "(1604,2256,'Certifications')]}"
   ]
  },
  {
   "cell_type": "code",
   "execution_count": 98,
   "id": "38854180",
   "metadata": {},
   "outputs": [
    {
     "name": "stdout",
     "output_type": "stream",
     "text": [
      "[(\"R tool R Shiny Python Flask ashwingeorge07@gmail.com 8921976440 Calicut, Kerala, India SKILLS Python programming EDUCATION M. Sc. Big Data Analytics St. Joseph's College of Arts and Science,Bengaluru 06/2019-Present, Marks(%) : 79.7% (Up to secondsemester) Karnataka,India Bachelor of Computer Applications Christ (Deemed to be University), Bengaluru 06/2016-03/2019, Marks(%) :78.68% Karnataka,India Pre-University St. Joseph's Higher Secondary School, Calicut 06/2014-03/2016, Marks(%):98.33% Kerala,India Course Computer Science Statistics MySQL PERSONAL PROJECTS Stay Sane, an AI chatbot to detect mental illness (07/2020 - Present) A platform on which people can converse with a chatbot that uses these text conversations to detect mental illness. The application is built using Python based on the concept of Recurrent Neural Networks. The project is on progress at St. Joseph’s College of Arts and Science,Bengaluru. 'Who'man?, a platform to estimate human pose in images (01/2020 - 04/2020) An application that analyses an image and detects the poses of any human in the picture. It is done by identifying and marking one's major body parts such as the different limbs and joints. The project is developed using Python based on the concept of Convolutional Neural Networks. It was completed at St. Joseph's College of Arts and Science,Bengaluru. LANGUAGES Malayalam Native or Bilingual Proficiency English Full Professional Proficiency Hindi Elementary Proficiency German Elementary Proficiency In short, a platform to extract and summarize text (01/2020 - 02/2020) An application that summarizes text in any image. It involves uploading an image, extracting Text from the image and summarizing the text. The application is built in python using librariessuch as ‘pytesseract’ to extract text and ‘gensim’ to perform text summarization. The project was completed at St. Joseph’s College of Arts and Science, Bengaluru. CAA polls, a platform to analyse tweets on CAA (01/2020 - 03/2020) An application that analyses live tweets on any topic from twitter and outputs a binary sentiment, Positive or Negative. It was specifically done to analyze the public's take on CAA (Citizen Amendment Act) policy proposed in 2019. The project is built using Python based on Naive Bayes classification. It was completed at St. Joseph's College of Arts and Science,Bengaluru. Forecaster, to predict temperature in Bengaluru (11/2019 - 02/2020) An application that predicts the temperature in Bengaluru based on the past ten years of data of temperature and few other climatic factors. The application is developed using R based on the concept of Vector Auto Regression and was completed at St. Joseph's College of Arts and Science,Bengaluru Cafeteria Management System (11/2018 - 02/2019) A web application developed using PHP at Christ (Deemed to be University), Bengaluru, exclusively for the cafeterias within the college. It has a ‘customer dashboard’ for students to place orders and a ‘cafeteria dashboard’ that helps owners to manage the orders received. Ashwin George An aspiring Data Scientist A highly motivated individual and a team player equipped with strong programming skills, who loves to indulge in solving analytical problems and scraping insights. HTML CSS Natural Language Processing Machine Learning Deep Learning Hadoop INTERESTS Car Pooling System (11/2017 - 02/2018) A web application built using PHP that puts forward the idea of sharing a cab ride by multiple customers if their destination is common or if it lies in the same route. This helps customers to save money and also decreases pollution by minimizing the use of vehicles. The project wascompletedatChrist(DeemedtobeUniversity),Bengaluru. WORK EXPERIENCE Intern Aabasoft Technologies, Cochin, Kerala 04/2018 - 05/2018 Achievements/Tasks Introduced to the technology of Internet Of Things (IOT) Learnt to use and process the inputs from different sensors using Arduino. Completed an IOT project of building an IOT enabled robotic car that functions using Arduino based on the inputs from a mobile device received through a wireless medium. VOLUNTEER EXPERIENCE A volunteer of “Sigma - Squared”, an organization of the Department of Big Data Analytics, St. Joseph’s College, Bengaluru. (06/2019 -Present) A volunteer of “Student Welfare Office”, a team of student volunteers at Christ (Deemed to be University), Bengaluru. (10/2016 - 03/2019) A volunteer of the National Service Scheme (NSS), a central government-sponsored public service program, at St. Joseph’s Higher Secondary School, Calicut, Kerala. (06/2014 - 03/2016) Music Movies Games\", {'entities': [[0, 6, 'SKILLS'], [7, 14, 'SKILLS'], [15, 21, 'SKILLS'], [22, 27, 'SKILLS'], [28, 52, 'EMAIL'], [53, 63, 'MOBILE'], [94, 112, 'SKILLS'], [123, 129, 'DEGREE'], [130, 148, 'BRANCH'], [149, 189, 'COLLEGE NAME'], [200, 215, 'GRADUATION YEAR'], [567, 616, 'PROJECTS'], [924, 978, 'PROJECTS'], [1513, 1553, 'PROJECTS'], [1927, 1973, 'PROJECTS'], [2368, 2415, 'PROJECTS'], [2723, 2760, 'PROJECTS'], [3054, 3067, 'NAME'], [3259, 3263, 'SKILLS'], [3264, 3267, 'SKILLS'], [3268, 3295, 'SKILLS'], [3296, 3312, 'SKILLS'], [3313, 3326, 'SKILLS'], [3327, 3333, 'SKILLS'], [3344, 3362, 'PROJECTS'], [3733, 3761, 'COMPANIES WORKED AT'], [4602, 4607, 'INTERESTS'], [4608, 4614, 'INTERESTS'], [4615, 4620, 'INTERESTS']]})]\n"
     ]
    }
   ],
   "source": [
    "import sys,fitz\n",
    "fname=\"C:\\\\Users\\\\matur\\\\A_SurgeBook\\\\Assignments\\\\Intelligent Recruitment Project\\\\Resume_entity\\\\sravyadeepika.json\" \n",
    "\n",
    "with open(fname, 'r',encoding=\"utf-8\") as f:\n",
    "    data = json.load(f)\n",
    "ans=[]\n",
    "ans.append((data['annotations'][0][0],data['annotations'][0][1]))\n",
    "print(ans)"
   ]
  },
  {
   "cell_type": "code",
   "execution_count": null,
   "id": "f6328d46",
   "metadata": {},
   "outputs": [],
   "source": [
    "import sys,fitz\n",
    "fname=\"C:\\\\Users\\\\matur\\\\A_SurgeBook\\\\Assignments\\\\Intelligent Recruitment Project\\\\Resumes_Collection\\\\Ashwin_George_Resume.pdf.pdf\" \n",
    "doc=fitz.open(fname)\n",
    "text= \"\"\n",
    "for page in doc:\n",
    "    text=text+str(page.getText())\n",
    "doc.close()\n",
    "txt=\" \".join(text.split())\n",
    "print(txt)\n",
    "fna=\"C:\\\\Users\\\\matur\\\\A_SurgeBook\\\\Assignments\\\\Intelligent Recruitment Project\\\\Resumes_txt\\\\Ashwin_George_Resume.txt\"\n",
    "with open(fna, 'w') as f:\n",
    "    f.write(txt)\n"
   ]
  },
  {
   "cell_type": "code",
   "execution_count": 79,
   "id": "c5f5fdb3",
   "metadata": {},
   "outputs": [],
   "source": [
    "import os\n",
    "import sys,fitz\n",
    "# assign directory\n",
    "directory = 'C:\\\\Users\\\\matur\\\\A_SurgeBook\\\\Assignments\\\\Intelligent Recruitment Project\\\\Resumes_Collection\\\\'\n",
    "fna=\"C:\\\\Users\\\\matur\\\\A_SurgeBook\\\\Assignments\\\\Intelligent Recruitment Project\\\\Resumes_txt\\\\\"\n",
    "# iterate over files in\n",
    "# that directory\n",
    "for filename in os.listdir(directory):\n",
    "    if not filename.endswith(\".pdf\"):\n",
    "        continue\n",
    "    f = os.path.join(directory, filename)\n",
    "    # checking if it is a file\n",
    "    if os.path.isfile(f):\n",
    "        doc=fitz.open(f)\n",
    "        text= \"\"\n",
    "        for page in doc:\n",
    "            text=text+str(page.getText())\n",
    "        doc.close()\n",
    "        txt=\" \".join(text.split())\n",
    "        with open(fna+filename[:-3]+'txt', 'w',encoding=\"utf-8\") as f:\n",
    "            f.write(txt)"
   ]
  },
  {
   "cell_type": "code",
   "execution_count": null,
   "id": "378a15e0",
   "metadata": {},
   "outputs": [],
   "source": []
  },
  {
   "cell_type": "code",
   "execution_count": 153,
   "id": "7f7f93cb",
   "metadata": {},
   "outputs": [
    {
     "name": "stdout",
     "output_type": "stream",
     "text": [
      "0 13 Aakash Sharma PERSON\n",
      "29 36 Working PERSON\n",
      "117 134 Analytical Models ORG\n",
      "252 262 9711710493 DATE\n",
      "263 272 Bangalore GPE\n",
      "274 279 India GPE\n",
      "392 397 Sub-k PERSON\n",
      "439 448 Hyderabad GPE\n",
      "450 463 India Formaly ORG\n",
      "527 541 Data Warehouse ORG\n",
      "547 551 Data NORP\n",
      "567 576 Architect ORG\n",
      "622 655 Financial Machine Learning Models ORG\n",
      "692 719 Customer/Agent Segmentation ORG\n",
      "721 740 Credit Scoring Tool ORG\n",
      "791 809 Analytical Support ORG\n",
      "895 898 LGD ORG\n",
      "903 906 EAD ORG\n",
      "909 927 Forecasting Models ORG\n",
      "937 941 MSME ORG\n",
      "970 976 Python WORK_OF_ART\n",
      "1004 1012 Power BI PRODUCT\n",
      "1031 1034 SQL ORG\n",
      "1051 1094 Creating Alerts and Automation using Python ORG\n",
      "1163 1168 Delhi GPE\n",
      "1170 1181 India Delhi GPE\n",
      "1204 1210 Design ORG\n",
      "1288 1291 SQL ORG\n",
      "1293 1296 MVC ORG\n",
      "1433 1445 Continuously ORG\n",
      "1627 1652 LTFS Data Science FinHack ORG\n",
      "1654 1671 01/2020 - 01/2020 CARDINAL\n",
      "1716 1721 Keras GPE\n",
      "1723 1730 01/2020 CARDINAL\n",
      "1764 1769 MNIST GPE\n",
      "1821 1823 15 CARDINAL\n",
      "1878 1899 Post Graduate Diploma ORG\n",
      "1938 1974 AI Manipal Academy of Higher Studies ORG\n",
      "1994 2003 Bangalore GPE\n",
      "2005 2008 8.9 CARDINAL\n",
      "2009 2089 CGPA Bachelors of Computer Application Guru Gobind Singh Indraprastha University ORG\n",
      "2109 2114 Delhi GPE\n",
      "2117 2120 7.9 CARDINAL\n",
      "2121 2125 CGPA ORG\n",
      "2273 2296 AWS Keras Deep Learning ORG\n",
      "2298 2301 ANN ORG\n",
      "2303 2306 CNN ORG\n",
      "2308 2311 RNN ORG\n",
      "2313 2328 Mongodb (Basics ORG\n",
      "2330 2333 SQL ORG\n",
      "2342 2415 ACHIEVEMENTS Hackerearth Doing Hackathons Analytic Vidhya Doing Hackathon WORK_OF_ART\n",
      "2420 2432 Written DSAT PERSON\n",
      "2434 2436 42 CARDINAL\n",
      "2474 2478 39th CARDINAL\n",
      "2505 2514 Hackathon FAC\n",
      "2533 2549 Meetup Attending PERSON\n",
      "2570 2648 AI CERTIFICATES IBM Data Science Professional Certiﬁcate Coursera Introduction ORG\n",
      "2652 2658 Apache PRODUCT\n",
      "2665 2669 MapR CARDINAL\n",
      "2708 2742 Alberta Machine Learning Institute ORG\n",
      "2783 2790 English LANGUAGE\n",
      "2854 2866 Hindi Native PERSON\n"
     ]
    }
   ],
   "source": [
    "doc = nlp1(txt_Aakash)\n",
    "\n",
    "# Iterate over the predicted entities\n",
    "\n",
    "for ent in doc.ents:\n",
    "    # Print the entity text and its label\n",
    "    print(ent.start_char, ent.end_char,ent.text, ent.label_)"
   ]
  },
  {
   "cell_type": "code",
   "execution_count": null,
   "id": "68cd82c0",
   "metadata": {},
   "outputs": [],
   "source": []
  },
  {
   "cell_type": "code",
   "execution_count": null,
   "id": "a4f5f252",
   "metadata": {},
   "outputs": [],
   "source": []
  },
  {
   "cell_type": "code",
   "execution_count": null,
   "id": "74c38194",
   "metadata": {},
   "outputs": [],
   "source": []
  },
  {
   "cell_type": "code",
   "execution_count": null,
   "id": "b527f020",
   "metadata": {},
   "outputs": [],
   "source": []
  },
  {
   "cell_type": "code",
   "execution_count": 50,
   "id": "c4ad63b9",
   "metadata": {},
   "outputs": [
    {
     "name": "stdout",
     "output_type": "stream",
     "text": [
      "similarity:  0.0\n"
     ]
    }
   ],
   "source": [
    "from nltk.corpus import stopwords\n",
    "from nltk.tokenize import word_tokenize\n",
    "  \n",
    "# X = input(\"Enter first string: \").lower()\n",
    "# Y = input(\"Enter second string: \").lower()\n",
    "X =\"podii\"\n",
    "Y =\"kodii\"\n",
    "  \n",
    "# tokenization\n",
    "X_list = word_tokenize(X) \n",
    "Y_list = word_tokenize(Y)\n",
    "  \n",
    "# sw contains the list of stopwords\n",
    "sw = stopwords.words('english') \n",
    "l1 =[];l2 =[]\n",
    "  \n",
    "# remove stop words from the string\n",
    "X_set = {w for w in X_list if not w in sw} \n",
    "Y_set = {w for w in Y_list if not w in sw}\n",
    "  \n",
    "# form a set containing keywords of both strings \n",
    "rvector = X_set.union(Y_set) \n",
    "for w in rvector:\n",
    "    if w in X_set: l1.append(1) # create a vector\n",
    "    else: l1.append(0)\n",
    "    if w in Y_set: l2.append(1)\n",
    "    else: l2.append(0)\n",
    "c = 0\n",
    "  \n",
    "# cosine formula \n",
    "for i in range(len(rvector)):\n",
    "        c+= l1[i]*l2[i]\n",
    "cosine = c / float((sum(l1)*sum(l2))**0.5)\n",
    "print(\"similarity: \", cosine)"
   ]
  },
  {
   "cell_type": "code",
   "execution_count": null,
   "id": "79740910",
   "metadata": {},
   "outputs": [],
   "source": []
  },
  {
   "cell_type": "code",
   "execution_count": null,
   "id": "2fec5d49",
   "metadata": {},
   "outputs": [],
   "source": []
  },
  {
   "cell_type": "code",
   "execution_count": null,
   "id": "6521457e",
   "metadata": {},
   "outputs": [],
   "source": []
  },
  {
   "cell_type": "code",
   "execution_count": null,
   "id": "0bce218c",
   "metadata": {},
   "outputs": [],
   "source": []
  }
 ],
 "metadata": {
  "kernelspec": {
   "display_name": "Python 3 (ipykernel)",
   "language": "python",
   "name": "python3"
  },
  "language_info": {
   "codemirror_mode": {
    "name": "ipython",
    "version": 3
   },
   "file_extension": ".py",
   "mimetype": "text/x-python",
   "name": "python",
   "nbconvert_exporter": "python",
   "pygments_lexer": "ipython3",
   "version": "3.9.7"
  }
 },
 "nbformat": 4,
 "nbformat_minor": 5
}
