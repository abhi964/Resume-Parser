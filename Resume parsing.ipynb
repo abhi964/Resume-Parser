{
 "cells": [
  {
   "cell_type": "code",
   "execution_count": 1,
   "id": "361671f3",
   "metadata": {},
   "outputs": [],
   "source": [
    "import spacy\n",
    "import pandas as pd\n",
    "from spacy import displacy\n",
    "import random"
   ]
  },
  {
   "cell_type": "code",
   "execution_count": 2,
   "id": "6bc1dade",
   "metadata": {},
   "outputs": [],
   "source": [
    "nlp = spacy.load(\"en_core_web_sm\")"
   ]
  },
  {
   "cell_type": "code",
   "execution_count": 4,
   "id": "17c805ee",
   "metadata": {},
   "outputs": [
    {
     "name": "stdout",
     "output_type": "stream",
     "text": [
      "CAREER OBJECTIVE Looking forward to secure a position in data related industry where I can use my skills in a best possible way for achieving the company's goals along with mine. 9 EDUCATION SRKR ENGINEERING COLLEGE JNTUK(A) B.Tech in Mechanical Engineering | 2018-2022 Current CGPA of 8.54 (up to sem-7) CHAITANYA JUNIOR COLLEGE Intermediate | 2016-2018 Secured 95.9% SIDDHARTHA ENGLISH MEDIUM SCHOOL 10th class | 2016 SKILLS Programming languages: python(numpy, pandas, plotly, matplotlib), SQL, Algorithms: Linear Regression, Logistic Regression, Decision Tree Classifier, Random Forest, Clustering, Boosting Techniques(Adaboost, Gradient boosting), PCA. Others: Statistics POSITION OF RESPONSIBILITIES INDIAN SOCIETY FOR TECHNICAL EDUCATION (ISTE) Worked as TREASURER of SRKR ISTE for the year 2020- 2021. Coordinated and Organized 7 events for enhancing student skills in the college. Working as SENIOR BODY MEMBER of SRKRISTE for the year 2021--2022 PROJECT DETAILS ML FOR ENERGY CONSUMPTION OF STEEL PLANT • Developed a linear regression model to predict the energy consumption of steel plant. • Identified features which has business importance by EDA • Adressed multicollinearity using heatmaps, pair plots and VIF. Evaluation is done using RMSE and R2 score where R2 score is 92% ML FOR TELECOM CHURN DATASET • Developed a logistic regression model to predict the churning of telecom customers. • Implemented feature selection technique, RFE and identified important features. • Addressed multicollinearity with VIF, heatmaps and pair plots. • Identified optimal threshold with graph between recall and precision. AMAZON CUSTOMER REVIEW • Build topic modelling model which provides an insight into customer’s review across different products. • Processing of data is done i.e Lemmatization, Tokenization and stemming etc. • Handling of dataset and topic creation is done by using LDA algorithm. • The model is evaluated using coherence values and the output is visualized. UNIVERSAL BANK PERSONAL LOAN • Developed a decision tree model for predicting whether the customer takes personal loan or not. • Using Grid search cross validation optimum hyperparameters are found. • Evaluation is done using Confusion matrix where accuracy found is 88% PACKAGES USED IN THESE PROECTS: Numpy, Pandas, Matplotlib, Plotly, Seaborn, NLTK, Spacy, Sklearn CO-CURRICULAR ACTIVITIES Events organized in association with SRKR ISTE ‘SAHARA’- a Social welfare program for future awareness to Govt. school children NIPUNA-21 - A.P's largest Techno Management Symposium. Worked as a volunteer in SANKETA'20 a National Level Techno Management Symposium. NIPUNA'20 a National Level Techno Management Symposium. CERTIFICATIONS COURSERA certification on Fusion 360 C-PROGRAMMING FOR BEGINNERS Python for Beginners ACHEIVMENTS Selected 2nd in innovation challenge conducted by FUTUREPLUS among 100teams. Top 10 in academics among 360 in my department Selected for 2nd stage of VISHWAKARMA AWARDS Stood 1st in ROBOFOLIC event conducted in NIPUNA'19 PERSONAL DETAILS DOB : 26-04-2001 Father's Name : P. Venkateshwara Rao Languages Known : Telugu, English, Hindi Hobbies : Writing, Volunteering Strengths : Quick learner, Adaptive DECLARATION I hereby solemnly declare that the above furnished data are true to the best of my knowledge. SIGNATURE (P. ABHIRAM)\n"
     ]
    },
    {
     "name": "stderr",
     "output_type": "stream",
     "text": [
      "Deprecation: 'getText' removed from class 'Page' after v1.19.0 - use 'get_text'.\n"
     ]
    }
   ],
   "source": [
    "import sys,fitz\n",
    "fname=\"ABHI PEMMARAJU (11).pdf\" \n",
    "doc=fitz.open(fname)\n",
    "text= \"\"\n",
    "for page in doc:\n",
    "    text=text+str(page.getText())\n",
    "doc.close()\n",
    "txt=\" \".join(text.split())\n",
    "print(txt)"
   ]
  },
  {
   "cell_type": "code",
   "execution_count": 5,
   "id": "5a51b46f",
   "metadata": {},
   "outputs": [
    {
     "data": {
      "text/html": [
       "<span class=\"tex2jax_ignore\"><div class=\"entities\" style=\"line-height: 2.5; direction: ltr\">CAREER OBJECTIVE </br>Looking forward to secure a position in data </br>related  industry where I can use my skills in a </br>best possible way for achieving the company's </br>goals along with mine. </br>\n",
       "<mark class=\"entity\" style=\"background: #e4e7d2; padding: 0.45em 0.6em; margin: 0 0.25em; line-height: 1; border-radius: 0.35em;\">\n",
       "    9\n",
       " \n",
       "\n",
       "    <span style=\"font-size: 0.8em; font-weight: bold; line-height: 1; border-radius: 0.35em; vertical-align: middle; margin-left: 0.5rem\">CARDINAL</span>\n",
       "</mark>\n",
       "EDUCATION </br>\n",
       "<mark class=\"entity\" style=\"background: #7aecec; padding: 0.45em 0.6em; margin: 0 0.25em; line-height: 1; border-radius: 0.35em;\">\n",
       "    SRKR ENGINEERING COLLEGE\n",
       "    <span style=\"font-size: 0.8em; font-weight: bold; line-height: 1; border-radius: 0.35em; vertical-align: middle; margin-left: 0.5rem\">ORG</span>\n",
       "</mark>\n",
       " </br>JNTUK(A) </br>B.Tech in \n",
       "<mark class=\"entity\" style=\"background: #7aecec; padding: 0.45em 0.6em; margin: 0 0.25em; line-height: 1; border-radius: 0.35em;\">\n",
       "    Mechanical Engineering\n",
       "    <span style=\"font-size: 0.8em; font-weight: bold; line-height: 1; border-radius: 0.35em; vertical-align: middle; margin-left: 0.5rem\">ORG</span>\n",
       "</mark>\n",
       " | \n",
       "<mark class=\"entity\" style=\"background: #bfe1d9; padding: 0.45em 0.6em; margin: 0 0.25em; line-height: 1; border-radius: 0.35em;\">\n",
       "    2018-2022\n",
       "    <span style=\"font-size: 0.8em; font-weight: bold; line-height: 1; border-radius: 0.35em; vertical-align: middle; margin-left: 0.5rem\">DATE</span>\n",
       "</mark>\n",
       " </br> </br> Current CGPA of \n",
       "<mark class=\"entity\" style=\"background: #e4e7d2; padding: 0.45em 0.6em; margin: 0 0.25em; line-height: 1; border-radius: 0.35em;\">\n",
       "    8.54\n",
       "    <span style=\"font-size: 0.8em; font-weight: bold; line-height: 1; border-radius: 0.35em; vertical-align: middle; margin-left: 0.5rem\">CARDINAL</span>\n",
       "</mark>\n",
       " (up to sem-7)      </br>  </br>\n",
       "<mark class=\"entity\" style=\"background: #7aecec; padding: 0.45em 0.6em; margin: 0 0.25em; line-height: 1; border-radius: 0.35em;\">\n",
       "    CHAITANYA JUNIOR COLLEGE\n",
       "    <span style=\"font-size: 0.8em; font-weight: bold; line-height: 1; border-radius: 0.35em; vertical-align: middle; margin-left: 0.5rem\">ORG</span>\n",
       "</mark>\n",
       " </br>Intermediate | \n",
       "<mark class=\"entity\" style=\"background: #bfe1d9; padding: 0.45em 0.6em; margin: 0 0.25em; line-height: 1; border-radius: 0.35em;\">\n",
       "    2016-2018\n",
       "    <span style=\"font-size: 0.8em; font-weight: bold; line-height: 1; border-radius: 0.35em; vertical-align: middle; margin-left: 0.5rem\">DATE</span>\n",
       "</mark>\n",
       " </br> </br> Secured \n",
       "<mark class=\"entity\" style=\"background: #e4e7d2; padding: 0.45em 0.6em; margin: 0 0.25em; line-height: 1; border-radius: 0.35em;\">\n",
       "    95.9%\n",
       "    <span style=\"font-size: 0.8em; font-weight: bold; line-height: 1; border-radius: 0.35em; vertical-align: middle; margin-left: 0.5rem\">PERCENT</span>\n",
       "</mark>\n",
       " </br>\n",
       "<mark class=\"entity\" style=\"background: #7aecec; padding: 0.45em 0.6em; margin: 0 0.25em; line-height: 1; border-radius: 0.35em;\">\n",
       "    SIDDHARTHA\n",
       "    <span style=\"font-size: 0.8em; font-weight: bold; line-height: 1; border-radius: 0.35em; vertical-align: middle; margin-left: 0.5rem\">ORG</span>\n",
       "</mark>\n",
       " ENGLISH MEDIUM </br>\n",
       "<mark class=\"entity\" style=\"background: #7aecec; padding: 0.45em 0.6em; margin: 0 0.25em; line-height: 1; border-radius: 0.35em;\">\n",
       "    SCHOOL\n",
       "    <span style=\"font-size: 0.8em; font-weight: bold; line-height: 1; border-radius: 0.35em; vertical-align: middle; margin-left: 0.5rem\">ORG</span>\n",
       "</mark>\n",
       " </br>\n",
       "<mark class=\"entity\" style=\"background: #e4e7d2; padding: 0.45em 0.6em; margin: 0 0.25em; line-height: 1; border-radius: 0.35em;\">\n",
       "    10th\n",
       "    <span style=\"font-size: 0.8em; font-weight: bold; line-height: 1; border-radius: 0.35em; vertical-align: middle; margin-left: 0.5rem\">ORDINAL</span>\n",
       "</mark>\n",
       " class | \n",
       "<mark class=\"entity\" style=\"background: #bfe1d9; padding: 0.45em 0.6em; margin: 0 0.25em; line-height: 1; border-radius: 0.35em;\">\n",
       "    2016\n",
       "    <span style=\"font-size: 0.8em; font-weight: bold; line-height: 1; border-radius: 0.35em; vertical-align: middle; margin-left: 0.5rem\">DATE</span>\n",
       "</mark>\n",
       " </br> </br>SKILLS </br>  Programming languages: python(numpy, </br>pandas, plotly, matplotlib), \n",
       "<mark class=\"entity\" style=\"background: #7aecec; padding: 0.45em 0.6em; margin: 0 0.25em; line-height: 1; border-radius: 0.35em;\">\n",
       "    SQL\n",
       "    <span style=\"font-size: 0.8em; font-weight: bold; line-height: 1; border-radius: 0.35em; vertical-align: middle; margin-left: 0.5rem\">ORG</span>\n",
       "</mark>\n",
       ", </br>   \n",
       "<mark class=\"entity\" style=\"background: #aa9cfc; padding: 0.45em 0.6em; margin: 0 0.25em; line-height: 1; border-radius: 0.35em;\">\n",
       "    Algorithms\n",
       "    <span style=\"font-size: 0.8em; font-weight: bold; line-height: 1; border-radius: 0.35em; vertical-align: middle; margin-left: 0.5rem\">PERSON</span>\n",
       "</mark>\n",
       ":  Linear Regression, Logistic </br>Regression, Decision Tree Classifier,  </br>\n",
       "<mark class=\"entity\" style=\"background: #7aecec; padding: 0.45em 0.6em; margin: 0 0.25em; line-height: 1; border-radius: 0.35em;\">\n",
       "    Random Forest\n",
       "    <span style=\"font-size: 0.8em; font-weight: bold; line-height: 1; border-radius: 0.35em; vertical-align: middle; margin-left: 0.5rem\">ORG</span>\n",
       "</mark>\n",
       ", \n",
       "<mark class=\"entity\" style=\"background: #7aecec; padding: 0.45em 0.6em; margin: 0 0.25em; line-height: 1; border-radius: 0.35em;\">\n",
       "    Clustering\n",
       "    <span style=\"font-size: 0.8em; font-weight: bold; line-height: 1; border-radius: 0.35em; vertical-align: middle; margin-left: 0.5rem\">ORG</span>\n",
       "</mark>\n",
       ", Boosting </br>Techniques(Adaboost, Gradient </br>boosting), \n",
       "<mark class=\"entity\" style=\"background: #7aecec; padding: 0.45em 0.6em; margin: 0 0.25em; line-height: 1; border-radius: 0.35em;\">\n",
       "    PCA\n",
       "    <span style=\"font-size: 0.8em; font-weight: bold; line-height: 1; border-radius: 0.35em; vertical-align: middle; margin-left: 0.5rem\">ORG</span>\n",
       "</mark>\n",
       ". </br>   Others: Statistics </br>  </br>POSITION OF RESPONSIBILITIES </br>INDIAN \n",
       "<mark class=\"entity\" style=\"background: #7aecec; padding: 0.45em 0.6em; margin: 0 0.25em; line-height: 1; border-radius: 0.35em;\">\n",
       "    SOCIETY FOR TECHNICAL\n",
       "    <span style=\"font-size: 0.8em; font-weight: bold; line-height: 1; border-radius: 0.35em; vertical-align: middle; margin-left: 0.5rem\">ORG</span>\n",
       "</mark>\n",
       " </br>EDUCATION (ISTE) Worked as </br>TREASURER of SRKR ISTE for \n",
       "<mark class=\"entity\" style=\"background: #bfe1d9; padding: 0.45em 0.6em; margin: 0 0.25em; line-height: 1; border-radius: 0.35em;\">\n",
       "    the year\n",
       "    <span style=\"font-size: 0.8em; font-weight: bold; line-height: 1; border-radius: 0.35em; vertical-align: middle; margin-left: 0.5rem\">DATE</span>\n",
       "</mark>\n",
       " 2020-</br>2021. </br> Coordinated and Organized 7 events for </br>enhancing student skills in the college. </br>Working as SENIOR BODY MEMBER of </br>SRKRISTE for \n",
       "<mark class=\"entity\" style=\"background: #bfe1d9; padding: 0.45em 0.6em; margin: 0 0.25em; line-height: 1; border-radius: 0.35em;\">\n",
       "    the year\n",
       "    <span style=\"font-size: 0.8em; font-weight: bold; line-height: 1; border-radius: 0.35em; vertical-align: middle; margin-left: 0.5rem\">DATE</span>\n",
       "</mark>\n",
       " 2021--2022 </br> </br> PROJECT DETAILS </br>\n",
       "<mark class=\"entity\" style=\"background: #7aecec; padding: 0.45em 0.6em; margin: 0 0.25em; line-height: 1; border-radius: 0.35em;\">\n",
       "    ML FOR ENERGY CONSUMPTION OF STEEL PLANT\n",
       "    <span style=\"font-size: 0.8em; font-weight: bold; line-height: 1; border-radius: 0.35em; vertical-align: middle; margin-left: 0.5rem\">ORG</span>\n",
       "</mark>\n",
       " </br>• </br>Developed a linear regression model to </br>predict the energy consumption of steel </br>plant. </br>• </br>Identified features which has business </br>importance by \n",
       "<mark class=\"entity\" style=\"background: #7aecec; padding: 0.45em 0.6em; margin: 0 0.25em; line-height: 1; border-radius: 0.35em;\">\n",
       "    EDA\n",
       "    <span style=\"font-size: 0.8em; font-weight: bold; line-height: 1; border-radius: 0.35em; vertical-align: middle; margin-left: 0.5rem\">ORG</span>\n",
       "</mark>\n",
       " </br>• </br>Adressed multicollinearity using heatmaps, </br>pair plots and \n",
       "<mark class=\"entity\" style=\"background: #7aecec; padding: 0.45em 0.6em; margin: 0 0.25em; line-height: 1; border-radius: 0.35em;\">\n",
       "    VIF\n",
       "    <span style=\"font-size: 0.8em; font-weight: bold; line-height: 1; border-radius: 0.35em; vertical-align: middle; margin-left: 0.5rem\">ORG</span>\n",
       "</mark>\n",
       ". </br>    Evaluation is done using \n",
       "<mark class=\"entity\" style=\"background: #7aecec; padding: 0.45em 0.6em; margin: 0 0.25em; line-height: 1; border-radius: 0.35em;\">\n",
       "    RMSE\n",
       "    <span style=\"font-size: 0.8em; font-weight: bold; line-height: 1; border-radius: 0.35em; vertical-align: middle; margin-left: 0.5rem\">ORG</span>\n",
       "</mark>\n",
       " and R2 score </br>where R2 score is \n",
       "<mark class=\"entity\" style=\"background: #e4e7d2; padding: 0.45em 0.6em; margin: 0 0.25em; line-height: 1; border-radius: 0.35em;\">\n",
       "    92%\n",
       "    <span style=\"font-size: 0.8em; font-weight: bold; line-height: 1; border-radius: 0.35em; vertical-align: middle; margin-left: 0.5rem\">PERCENT</span>\n",
       "</mark>\n",
       " </br>\n",
       "<mark class=\"entity\" style=\"background: #7aecec; padding: 0.45em 0.6em; margin: 0 0.25em; line-height: 1; border-radius: 0.35em;\">\n",
       "    ML FOR TELECOM CHURN DATASET\n",
       "    <span style=\"font-size: 0.8em; font-weight: bold; line-height: 1; border-radius: 0.35em; vertical-align: middle; margin-left: 0.5rem\">ORG</span>\n",
       "</mark>\n",
       " </br>• </br>Developed a logistic regression model to </br>predict the churning of telecom customers.  </br>• </br>Implemented feature selection technique, </br>RFE and identified important features. </br>• </br>Addressed multicollinearity with \n",
       "<mark class=\"entity\" style=\"background: #7aecec; padding: 0.45em 0.6em; margin: 0 0.25em; line-height: 1; border-radius: 0.35em;\">\n",
       "    VIF\n",
       "    <span style=\"font-size: 0.8em; font-weight: bold; line-height: 1; border-radius: 0.35em; vertical-align: middle; margin-left: 0.5rem\">ORG</span>\n",
       "</mark>\n",
       ", </br>heatmaps and pair plots. </br>• </br>Identified optimal threshold with graph </br>between recall and precision. </br>\n",
       "<mark class=\"entity\" style=\"background: #7aecec; padding: 0.45em 0.6em; margin: 0 0.25em; line-height: 1; border-radius: 0.35em;\">\n",
       "    AMAZON CUSTOMER REVIEW\n",
       "    <span style=\"font-size: 0.8em; font-weight: bold; line-height: 1; border-radius: 0.35em; vertical-align: middle; margin-left: 0.5rem\">ORG</span>\n",
       "</mark>\n",
       " </br>• </br>Build topic modelling model which provides </br>an insight into customer’s review across </br>different products. </br>• </br>Processing of data is done \n",
       "<mark class=\"entity\" style=\"background: #aa9cfc; padding: 0.45em 0.6em; margin: 0 0.25em; line-height: 1; border-radius: 0.35em;\">\n",
       "    i.e Lemmatization\n",
       "    <span style=\"font-size: 0.8em; font-weight: bold; line-height: 1; border-radius: 0.35em; vertical-align: middle; margin-left: 0.5rem\">PERSON</span>\n",
       "</mark>\n",
       ", </br>Tokenization and stemming etc. </br>• </br>Handling of dataset and topic creation is done </br>by using LDA algorithm. </br> </br> </br> </br> </br> </br> </br> </br>• </br>The model is evaluated using coherence </br>values and the output is visualized. </br>  </br> </br>\n",
       "<mark class=\"entity\" style=\"background: #7aecec; padding: 0.45em 0.6em; margin: 0 0.25em; line-height: 1; border-radius: 0.35em;\">\n",
       "    UNIVERSAL BANK PERSONAL LOAN\n",
       "    <span style=\"font-size: 0.8em; font-weight: bold; line-height: 1; border-radius: 0.35em; vertical-align: middle; margin-left: 0.5rem\">ORG</span>\n",
       "</mark>\n",
       " </br>• </br>Developed a decision tree model for predicting </br>whether the customer takes personal loan or </br>not. </br>\n",
       "<mark class=\"entity\" style=\"background: #7aecec; padding: 0.45em 0.6em; margin: 0 0.25em; line-height: 1; border-radius: 0.35em;\">\n",
       "    • Using Grid\n",
       "    <span style=\"font-size: 0.8em; font-weight: bold; line-height: 1; border-radius: 0.35em; vertical-align: middle; margin-left: 0.5rem\">ORG</span>\n",
       "</mark>\n",
       " search cross validation optimum </br>hyperparameters are found. </br>\n",
       "<mark class=\"entity\" style=\"background: #7aecec; padding: 0.45em 0.6em; margin: 0 0.25em; line-height: 1; border-radius: 0.35em;\">\n",
       "    • Evaluation\n",
       "    <span style=\"font-size: 0.8em; font-weight: bold; line-height: 1; border-radius: 0.35em; vertical-align: middle; margin-left: 0.5rem\">ORG</span>\n",
       "</mark>\n",
       " is done using \n",
       "<mark class=\"entity\" style=\"background: #c887fb; padding: 0.45em 0.6em; margin: 0 0.25em; line-height: 1; border-radius: 0.35em;\">\n",
       "    Confusion\n",
       "    <span style=\"font-size: 0.8em; font-weight: bold; line-height: 1; border-radius: 0.35em; vertical-align: middle; margin-left: 0.5rem\">NORP</span>\n",
       "</mark>\n",
       " matrix </br>where accuracy found is \n",
       "<mark class=\"entity\" style=\"background: #e4e7d2; padding: 0.45em 0.6em; margin: 0 0.25em; line-height: 1; border-radius: 0.35em;\">\n",
       "    88%\n",
       "    <span style=\"font-size: 0.8em; font-weight: bold; line-height: 1; border-radius: 0.35em; vertical-align: middle; margin-left: 0.5rem\">PERCENT</span>\n",
       "</mark>\n",
       " </br>PACKAGES USED IN THESE PROECTS: </br>\n",
       "<mark class=\"entity\" style=\"background: #c887fb; padding: 0.45em 0.6em; margin: 0 0.25em; line-height: 1; border-radius: 0.35em;\">\n",
       "    Numpy\n",
       "    <span style=\"font-size: 0.8em; font-weight: bold; line-height: 1; border-radius: 0.35em; vertical-align: middle; margin-left: 0.5rem\">NORP</span>\n",
       "</mark>\n",
       ", \n",
       "<mark class=\"entity\" style=\"background: #c887fb; padding: 0.45em 0.6em; margin: 0 0.25em; line-height: 1; border-radius: 0.35em;\">\n",
       "    Pandas\n",
       "    <span style=\"font-size: 0.8em; font-weight: bold; line-height: 1; border-radius: 0.35em; vertical-align: middle; margin-left: 0.5rem\">NORP</span>\n",
       "</mark>\n",
       ", \n",
       "<mark class=\"entity\" style=\"background: #aa9cfc; padding: 0.45em 0.6em; margin: 0 0.25em; line-height: 1; border-radius: 0.35em;\">\n",
       "    Matplotlib\n",
       "    <span style=\"font-size: 0.8em; font-weight: bold; line-height: 1; border-radius: 0.35em; vertical-align: middle; margin-left: 0.5rem\">PERSON</span>\n",
       "</mark>\n",
       ", Plotly, \n",
       "<mark class=\"entity\" style=\"background: #7aecec; padding: 0.45em 0.6em; margin: 0 0.25em; line-height: 1; border-radius: 0.35em;\">\n",
       "    Seaborn\n",
       "    <span style=\"font-size: 0.8em; font-weight: bold; line-height: 1; border-radius: 0.35em; vertical-align: middle; margin-left: 0.5rem\">ORG</span>\n",
       "</mark>\n",
       ", </br>NLTK, \n",
       "<mark class=\"entity\" style=\"background: #feca74; padding: 0.45em 0.6em; margin: 0 0.25em; line-height: 1; border-radius: 0.35em;\">\n",
       "    Spacy\n",
       "    <span style=\"font-size: 0.8em; font-weight: bold; line-height: 1; border-radius: 0.35em; vertical-align: middle; margin-left: 0.5rem\">GPE</span>\n",
       "</mark>\n",
       ", \n",
       "<mark class=\"entity\" style=\"background: #7aecec; padding: 0.45em 0.6em; margin: 0 0.25em; line-height: 1; border-radius: 0.35em;\">\n",
       "    Sklearn \n",
       " \n",
       "CO-CURRICULAR\n",
       "    <span style=\"font-size: 0.8em; font-weight: bold; line-height: 1; border-radius: 0.35em; vertical-align: middle; margin-left: 0.5rem\">ORG</span>\n",
       "</mark>\n",
       " ACTIVITIES </br>Events organized in association with </br> SRKR ISTE </br>‘SAHARA’- a Social welfare program for </br>future awareness to \n",
       "<mark class=\"entity\" style=\"background: #7aecec; padding: 0.45em 0.6em; margin: 0 0.25em; line-height: 1; border-radius: 0.35em;\">\n",
       "    Govt\n",
       "    <span style=\"font-size: 0.8em; font-weight: bold; line-height: 1; border-radius: 0.35em; vertical-align: middle; margin-left: 0.5rem\">ORG</span>\n",
       "</mark>\n",
       ". school children  </br>\n",
       "<mark class=\"entity\" style=\"background: #7aecec; padding: 0.45em 0.6em; margin: 0 0.25em; line-height: 1; border-radius: 0.35em;\">\n",
       "    NIPUNA-21 - A.P's\n",
       "    <span style=\"font-size: 0.8em; font-weight: bold; line-height: 1; border-radius: 0.35em; vertical-align: middle; margin-left: 0.5rem\">ORG</span>\n",
       "</mark>\n",
       " largest \n",
       "<mark class=\"entity\" style=\"background: #7aecec; padding: 0.45em 0.6em; margin: 0 0.25em; line-height: 1; border-radius: 0.35em;\">\n",
       "    Techno \n",
       "Management Symposium\n",
       "    <span style=\"font-size: 0.8em; font-weight: bold; line-height: 1; border-radius: 0.35em; vertical-align: middle; margin-left: 0.5rem\">ORG</span>\n",
       "</mark>\n",
       ".  </br>Worked as a volunteer in </br>SANKETA'20 a National Level Techno </br>Management Symposium. NIPUNA'20 a </br>National Level Techno Management </br>Symposium. </br> </br>\n",
       "<mark class=\"entity\" style=\"background: #7aecec; padding: 0.45em 0.6em; margin: 0 0.25em; line-height: 1; border-radius: 0.35em;\">\n",
       "    CERTIFICATIONS\n",
       "    <span style=\"font-size: 0.8em; font-weight: bold; line-height: 1; border-radius: 0.35em; vertical-align: middle; margin-left: 0.5rem\">ORG</span>\n",
       "</mark>\n",
       " </br>COURSERA certification on \n",
       "<mark class=\"entity\" style=\"background: #7aecec; padding: 0.45em 0.6em; margin: 0 0.25em; line-height: 1; border-radius: 0.35em;\">\n",
       "    Fusion 360 \n",
       " C-PROGRAMMING FOR BEGINNERS\n",
       "    <span style=\"font-size: 0.8em; font-weight: bold; line-height: 1; border-radius: 0.35em; vertical-align: middle; margin-left: 0.5rem\">ORG</span>\n",
       "</mark>\n",
       " </br>Python for Beginners </br> </br>ACHEIVMENTS </br> Selected \n",
       "<mark class=\"entity\" style=\"background: #bfe1d9; padding: 0.45em 0.6em; margin: 0 0.25em; line-height: 1; border-radius: 0.35em;\">\n",
       "    2nd\n",
       "    <span style=\"font-size: 0.8em; font-weight: bold; line-height: 1; border-radius: 0.35em; vertical-align: middle; margin-left: 0.5rem\">DATE</span>\n",
       "</mark>\n",
       " in innovation </br>challenge conducted by </br>FUTUREPLUS among 100teams. </br>Top \n",
       "<mark class=\"entity\" style=\"background: #e4e7d2; padding: 0.45em 0.6em; margin: 0 0.25em; line-height: 1; border-radius: 0.35em;\">\n",
       "    10\n",
       "    <span style=\"font-size: 0.8em; font-weight: bold; line-height: 1; border-radius: 0.35em; vertical-align: middle; margin-left: 0.5rem\">CARDINAL</span>\n",
       "</mark>\n",
       " in academics among 360 in my </br>department </br>Selected for \n",
       "<mark class=\"entity\" style=\"background: #e4e7d2; padding: 0.45em 0.6em; margin: 0 0.25em; line-height: 1; border-radius: 0.35em;\">\n",
       "    2nd\n",
       "    <span style=\"font-size: 0.8em; font-weight: bold; line-height: 1; border-radius: 0.35em; vertical-align: middle; margin-left: 0.5rem\">ORDINAL</span>\n",
       "</mark>\n",
       " stage of \n",
       "<mark class=\"entity\" style=\"background: #7aecec; padding: 0.45em 0.6em; margin: 0 0.25em; line-height: 1; border-radius: 0.35em;\">\n",
       "    VISHWAKARMA\n",
       "    <span style=\"font-size: 0.8em; font-weight: bold; line-height: 1; border-radius: 0.35em; vertical-align: middle; margin-left: 0.5rem\">ORG</span>\n",
       "</mark>\n",
       " </br>AWARDS </br>Stood 1st in ROBOFOLIC event </br>conducted in NIPUNA'19 </br>PERSONAL DETAILS </br>DOB                            : \n",
       "<mark class=\"entity\" style=\"background: #e4e7d2; padding: 0.45em 0.6em; margin: 0 0.25em; line-height: 1; border-radius: 0.35em;\">\n",
       "    26-04-2001\n",
       "    <span style=\"font-size: 0.8em; font-weight: bold; line-height: 1; border-radius: 0.35em; vertical-align: middle; margin-left: 0.5rem\">CARDINAL</span>\n",
       "</mark>\n",
       " </br>Father's Name          : \n",
       "<mark class=\"entity\" style=\"background: #aa9cfc; padding: 0.45em 0.6em; margin: 0 0.25em; line-height: 1; border-radius: 0.35em;\">\n",
       "    P. Venkateshwara Rao\n",
       "    <span style=\"font-size: 0.8em; font-weight: bold; line-height: 1; border-radius: 0.35em; vertical-align: middle; margin-left: 0.5rem\">PERSON</span>\n",
       "</mark>\n",
       " </br>\n",
       "<mark class=\"entity\" style=\"background: #aa9cfc; padding: 0.45em 0.6em; margin: 0 0.25em; line-height: 1; border-radius: 0.35em;\">\n",
       "    Languages Known\n",
       "    <span style=\"font-size: 0.8em; font-weight: bold; line-height: 1; border-radius: 0.35em; vertical-align: middle; margin-left: 0.5rem\">PERSON</span>\n",
       "</mark>\n",
       "    : Telugu, \n",
       "<mark class=\"entity\" style=\"background: #ff8197; padding: 0.45em 0.6em; margin: 0 0.25em; line-height: 1; border-radius: 0.35em;\">\n",
       "    English\n",
       "    <span style=\"font-size: 0.8em; font-weight: bold; line-height: 1; border-radius: 0.35em; vertical-align: middle; margin-left: 0.5rem\">LANGUAGE</span>\n",
       "</mark>\n",
       ", \n",
       "<mark class=\"entity\" style=\"background: #feca74; padding: 0.45em 0.6em; margin: 0 0.25em; line-height: 1; border-radius: 0.35em;\">\n",
       "    Hindi\n",
       "    <span style=\"font-size: 0.8em; font-weight: bold; line-height: 1; border-radius: 0.35em; vertical-align: middle; margin-left: 0.5rem\">GPE</span>\n",
       "</mark>\n",
       " </br>Hobbies                      : Writing, Volunteering </br>Strengths                   : Quick learner, \n",
       "<mark class=\"entity\" style=\"background: #7aecec; padding: 0.45em 0.6em; margin: 0 0.25em; line-height: 1; border-radius: 0.35em;\">\n",
       "    Adaptive \n",
       " \n",
       "\n",
       "    <span style=\"font-size: 0.8em; font-weight: bold; line-height: 1; border-radius: 0.35em; vertical-align: middle; margin-left: 0.5rem\">ORG</span>\n",
       "</mark>\n",
       "DECLARATION  </br>I hereby solemnly declare that the above </br>furnished data are true to the best of my </br>knowledge. </br>SIGNATURE </br>(\n",
       "<mark class=\"entity\" style=\"background: #7aecec; padding: 0.45em 0.6em; margin: 0 0.25em; line-height: 1; border-radius: 0.35em;\">\n",
       "    P. ABHIRAM\n",
       "    <span style=\"font-size: 0.8em; font-weight: bold; line-height: 1; border-radius: 0.35em; vertical-align: middle; margin-left: 0.5rem\">ORG</span>\n",
       "</mark>\n",
       ") </br></div></span>"
      ],
      "text/plain": [
       "<IPython.core.display.HTML object>"
      ]
     },
     "metadata": {},
     "output_type": "display_data"
    }
   ],
   "source": [
    "doc = nlp(text)\n",
    "displacy.render(doc, style=\"ent\", jupyter=True)"
   ]
  },
  {
   "cell_type": "code",
   "execution_count": 82,
   "id": "930e431b",
   "metadata": {},
   "outputs": [
    {
     "name": "stderr",
     "output_type": "stream",
     "text": [
      "Deprecation: 'getText' removed from class 'Page' after v1.19.0 - use 'get_text'.\n",
      "mupdf: cannot recognize xref format\n"
     ]
    }
   ],
   "source": [
    "import os\n",
    "import sys,fitz\n",
    "# assign directory\n",
    "directory =\"C:\\\\Users\\\\ABHIRAM\\\\Documents\\\\surge classes\\\\NLTK AND SPACY\\\\Information extraction\\\\Resumes_Collection\\\\\"\n",
    "fna=\"C:\\\\Users\\\\ABHIRAM\\\\Documents\\\\surge classes\\\\NLTK AND SPACY\\\\Information extraction\\\\Resume_text\\\\\"\n",
    "# iterate over files in\n",
    "# that directory\n",
    "for filename in os.listdir(directory):\n",
    "    if not filename.endswith(\".pdf\"):\n",
    "        continue\n",
    "    f = os.path.join(directory, filename)\n",
    "    # checking if it is a file\n",
    "    if os.path.isfile(f):\n",
    "        doc=fitz.open(f)\n",
    "        text= \"\"\n",
    "        for page in doc:\n",
    "            text=text+str(page.getText())\n",
    "        doc.close()\n",
    "        txt=\" \".join(text.split())\n",
    "        with open(fna+filename[:-3]+'txt', 'w',encoding=\"utf-8\") as f:\n",
    "            f.write(txt)"
   ]
  },
  {
   "cell_type": "code",
   "execution_count": 26,
   "id": "675d3802",
   "metadata": {},
   "outputs": [
    {
     "data": {
      "text/plain": [
       "('Manish Pawar SKILLS EDUCATION PROJECTS Bachelor of Engineering(Computer Science) / GPA: 7.98/10 University of Mumbai, Mumbai / 2016-2020 Higher Secondary School(HSC) / Score: 80.5% Bhavans College, Mumbai / 2014-2016 Secondary School(SSC) / Score: 95% Mumbai / 2014 • Farma-Tron (Krishi Mitra) -An automated agricultural drone based on deep learning and iot. • Eye in the sky -Crime detection and prevention using deep learning and cctv. • Smart Traffic System -An intelligent traffic management using opencv, raspberry pi and firebase. • Recruitio -Recruitment bot and software based on IBM cloud. • Ai to suggest product prices to online sellers. • Health yoga app using bioBERT and posenet. • Math word problem solver. • Ai music composer. • Gesture controlled racing game. • GameBot using Reinforcement learning. • Music recommender using facial expressions. INTERNSHIPS Virtual Student Intern, JPMorgan Chase & Co. / 2020 • Worked towards establishing financial feeds, check stability and predict revenue growth. Ai developer, SmartBridgeEducational Pvt. Ltd. by IBM / 2020 • Developed an intelligent customer help desk with smart document understanding. Student intern, Microsoft Virtual Internship / 2020 • Developed corporate work ready skills along with entrepreneurship experience. Data Analytics Intern, KPMG / 2020 • Provide data insights and quality assessment in audit and tax. Ai design intern, Home Drone / 2017 • Researched on drones for offices and ad-banners and integrating Ai with it. i-am-manish.github.io 9769280635 linkedin.com/in/pawarmanish github.com/i-am-manish Deep learning ROS Tensorflow openCV Flask/django C/C++ Data Structures and Algo IBM cloud AWS Git Javascript Unity/Blender NLP i_am_manish@outlook.com RESEARCH & PUBLICATIONS • “An Approach to Reconstruct Visual Data from Brain Using Conditional GAN”, IJOER, issn: 2395-6992. • “Detect Crimes and Assist Law Enforcement Agency using Deep Learning with CCTVs and Drones.”, IJRASET & ResearchGate, issn: 2321-9653. • “Can Ai guess your password?- A gan approach.”, TECH-NEXT, IJRI, issn : 2456-5105. • “Farma-Tron: An automated Agro-drone”, IJRASET, doi: 25/643/1333. • “NextGen of Cyber-Security with Artificial Intelligence”, ResearchGate, doi: RG.2.2.10560.99844. ACHIEVEMENTS Co-author, Data Driven Investor at Medium / 2017 • Ai related blog writing at medium.com WORKSHOPS & CERTIFICATIONS • IEEE’s industry-oriented Ai-Ml workshop at NITIE. • Nvidia’s deep learning at IIT-B. • IBM cognitive Ai and node-red. • Deep learning and reinforcement learning at NPTEL. • DRDO’s e-techcon for DL workshop. • FreeCodeCamp’s Ai course. • Google cloud and advance data science. • Digital skills on Ai & Google analytics at Accenture. • Cisco’s networking and cybersecurity workshop • Robotics workshop at TCET. • Winner of Smart India Hackathon 2019 edition. • Secured Elite rank in Deep learning exam by IIT-Madras. • Top 10 in Kaggle’s earthquake prediction challenge. • Winner of Iot Greentech modex event at IIT-BHU. • Gold in Technical paper presentation conferences, TechNext 2018 & 2019. • Winner of intercollegiate Technical faceoff.',\n",
       " {'entities': [[0, 12, 'NAME'],\n",
       "   [39, 80, 'DEGREE'],\n",
       "   [83, 95, 'CGPA'],\n",
       "   [96, 116, 'COLLEGE NAME'],\n",
       "   [137, 165, 'DEGREE'],\n",
       "   [168, 180, 'CGPA'],\n",
       "   [181, 196, 'COLLEGE NAME'],\n",
       "   [217, 238, 'DEGREE'],\n",
       "   [241, 251, 'CGPA'],\n",
       "   [268, 293, 'PROJECTS'],\n",
       "   [1292, 1326, 'WORK EXPERIENCE'],\n",
       "   [1392, 1408, 'WORK EXPERIENCE'],\n",
       "   [1410, 1427, 'PROJECTS'],\n",
       "   [1506, 1527, 'SOCIAL MEDIA LINKS'],\n",
       "   [1528, 1538, 'MOBILE'],\n",
       "   [1539, 1566, 'SOCIAL MEDIA LINKS'],\n",
       "   [1567, 1589, 'SOCIAL MEDIA LINKS'],\n",
       "   [1590, 1603, 'SKILLS'],\n",
       "   [1604, 1607, 'SKILLS'],\n",
       "   [1608, 1618, 'SKILLS'],\n",
       "   [1619, 1625, 'SKILLS'],\n",
       "   [1626, 1660, 'SKILLS'],\n",
       "   [1665, 1669, 'SKILLS'],\n",
       "   [1670, 1679, 'SKILLS'],\n",
       "   [1680, 1683, 'SKILLS'],\n",
       "   [1684, 1716, 'SKILLS'],\n",
       "   [1717, 1740, 'EMAIL'],\n",
       "   [1767, 1865, 'PATENTS/PUBLICATIONS'],\n",
       "   [1868, 2002, 'PATENTS/PUBLICATIONS'],\n",
       "   [2005, 2087, 'PATENTS/PUBLICATIONS'],\n",
       "   [2090, 2155, 'PATENTS/PUBLICATIONS'],\n",
       "   [2158, 2254, 'PATENTS/PUBLICATIONS'],\n",
       "   [2268, 2316, 'ACHEIVMENTS'],\n",
       "   [2319, 2356, 'ACHEIVMENTS'],\n",
       "   [2386, 2435, 'CERTIFICATIONS'],\n",
       "   [2438, 2470, 'CERTIFICATIONS'],\n",
       "   [2473, 2503, 'CERTIFICATIONS'],\n",
       "   [2506, 2556, 'CERTIFICATIONS'],\n",
       "   [2559, 2592, 'CERTIFICATIONS'],\n",
       "   [2595, 2620, 'CERTIFICATIONS'],\n",
       "   [2623, 2661, 'CERTIFICATIONS'],\n",
       "   [2664, 2717, 'CERTIFICATIONS'],\n",
       "   [2720, 2765, 'CERTIFICATIONS'],\n",
       "   [2768, 2794, 'CERTIFICATIONS'],\n",
       "   [2797, 2842, 'ACHEIVMENTS'],\n",
       "   [2845, 2900, 'ACHEIVMENTS'],\n",
       "   [2903, 2954, 'ACHEIVMENTS'],\n",
       "   [2957, 3004, 'ACHEIVMENTS'],\n",
       "   [3007, 3055, 'ACHEIVMENTS'],\n",
       "   [3057, 3078, 'ACHEIVMENTS'],\n",
       "   [3081, 3124, 'ACHEIVMENTS']]})"
      ]
     },
     "execution_count": 26,
     "metadata": {},
     "output_type": "execute_result"
    }
   ],
   "source": [
    "import json \n",
    "import os\n",
    "direc=\"C:\\\\Users\\\\ABHIRAM\\\\Documents\\\\surge classes\\\\NLTK AND SPACY\\\\Information extraction\\\\Resume_entities\\\\\"\n",
    "ans=[]\n",
    "for filename in os.listdir(direc):\n",
    "    if not filename.endswith(\".json\"):\n",
    "        continue\n",
    "    fname=os.path.join(direc, filename)\n",
    "    with open(fname, 'r',encoding=\"utf-8\") as f:\n",
    "        data=json.load(f)\n",
    "        ans.append((data['annotations'][0][0],data['annotations'][0][1]))\n",
    "ans[0]"
   ]
  },
  {
   "cell_type": "code",
   "execution_count": 47,
   "id": "093d26d7",
   "metadata": {},
   "outputs": [],
   "source": [
    "nlp=spacy.blank('en')\n",
    "def train_model(train_data):\n",
    "    if 'ner' not in nlp.pipe_names: # Adding pipeline\n",
    "        ner=nlp.create_pipe('ner')\n",
    "        nlp.add_pipe(ner,last=True)\n",
    "    #adding the labels to the pipe\n",
    "    for _, annotation in train_data: # train_data=[[text],[entities]]\n",
    "        for ent in annotation.get('entities'):\n",
    "            ner.add_label(ent[2])\n",
    "    other_pipes = [pipe for pipe in nlp.pipe_names if pipe != 'ner' ]\n",
    "    with nlp.disable_pipes(*other_pipes):\n",
    "        optimizer=nlp.begin_training()\n",
    "        for itn in range(13):\n",
    "            print(\"Starting the iteration\"+str(itn))\n",
    "            random.shuffle(train_data)\n",
    "            losses={}\n",
    "            index=0\n",
    "            for  text, annotations in train_data:\n",
    "                try:\n",
    "                    nlp.update([text],[annotations],drop=0.,sgd=optimizer,losses=losses)\n",
    "                except Exception as e:\n",
    "                    pass\n",
    "                    \n",
    "            print(losses)"
   ]
  },
  {
   "cell_type": "code",
   "execution_count": 23,
   "id": "2b6e9525",
   "metadata": {},
   "outputs": [
    {
     "name": "stdout",
     "output_type": "stream",
     "text": [
      "3.3.0\n"
     ]
    }
   ],
   "source": [
    "print(spacy.__version__)"
   ]
  },
  {
   "cell_type": "code",
   "execution_count": 27,
   "id": "3c2b04c1",
   "metadata": {},
   "outputs": [],
   "source": [
    "from spacy.tokens import DocBin\n",
    "from tqdm import tqdm\n",
    "\n",
    "nlp = spacy.blank(\"en\") # load a new spacy model\n",
    "doc_bin = DocBin()"
   ]
  },
  {
   "cell_type": "code",
   "execution_count": 28,
   "id": "687bbf68",
   "metadata": {
    "scrolled": false
   },
   "outputs": [
    {
     "name": "stderr",
     "output_type": "stream",
     "text": [
      "100%|██████████| 13/13 [00:00<00:00, 36.35it/s]\n"
     ]
    }
   ],
   "source": [
    "from spacy.util import filter_spans\n",
    "\n",
    "for training_example  in tqdm(ans): \n",
    "    text = training_example[0]\n",
    "    labels = training_example[1]['entities']\n",
    "    doc = nlp.make_doc(text) \n",
    "    ents = []\n",
    "    for start, end, label in labels:\n",
    "        span = doc.char_span(start, end, label=label, alignment_mode=\"contract\")\n",
    "        if span is None:\n",
    "            print(\"Skipping entity\")\n",
    "        else:\n",
    "            ents.append(span)\n",
    "    filtered_ents = filter_spans(ents)\n",
    "    doc.ents = filtered_ents \n",
    "    doc_bin.add(doc)\n",
    "\n",
    "doc_bin.to_disk(\"train.spacy\") "
   ]
  },
  {
   "cell_type": "code",
   "execution_count": 50,
   "id": "e76d069c",
   "metadata": {},
   "outputs": [
    {
     "name": "stdout",
     "output_type": "stream",
     "text": [
      "[+] Auto-filled config with all values\n",
      "[+] Saved config\n",
      "config.cfg\n",
      "You can now add your data and train your pipeline:\n",
      "python -m spacy train config.cfg --paths.train ./train.spacy --paths.dev ./dev.spacy\n"
     ]
    }
   ],
   "source": [
    "!python -m spacy init fill-config base_config.cfg config.cfg"
   ]
  },
  {
   "cell_type": "code",
   "execution_count": 51,
   "id": "4e1c7ce4",
   "metadata": {},
   "outputs": [
    {
     "name": "stdout",
     "output_type": "stream",
     "text": [
      "^C\n"
     ]
    }
   ],
   "source": [
    "!python -m spacy train config.cfg --output ./ --paths.train ./train.spacy --paths.dev ./train.spacy "
   ]
  },
  {
   "cell_type": "code",
   "execution_count": 52,
   "id": "61f28e7f",
   "metadata": {},
   "outputs": [
    {
     "ename": "OSError",
     "evalue": "[E050] Can't find model 'model-best'. It doesn't seem to be a Python package or a valid path to a data directory.",
     "output_type": "error",
     "traceback": [
      "\u001b[1;31m---------------------------------------------------------------------------\u001b[0m",
      "\u001b[1;31mOSError\u001b[0m                                   Traceback (most recent call last)",
      "\u001b[1;32m~\\AppData\\Local\\Temp/ipykernel_20664/4068112068.py\u001b[0m in \u001b[0;36m<module>\u001b[1;34m\u001b[0m\n\u001b[1;32m----> 1\u001b[1;33m \u001b[0mnlp_ner\u001b[0m \u001b[1;33m=\u001b[0m \u001b[0mspacy\u001b[0m\u001b[1;33m.\u001b[0m\u001b[0mload\u001b[0m\u001b[1;33m(\u001b[0m\u001b[1;34m\"model-best\"\u001b[0m\u001b[1;33m)\u001b[0m\u001b[1;33m\u001b[0m\u001b[1;33m\u001b[0m\u001b[0m\n\u001b[0m",
      "\u001b[1;32m~\\anaconda3\\lib\\site-packages\\spacy\\__init__.py\u001b[0m in \u001b[0;36mload\u001b[1;34m(name, vocab, disable, exclude, config)\u001b[0m\n\u001b[0;32m     49\u001b[0m     \u001b[0mRETURNS\u001b[0m \u001b[1;33m(\u001b[0m\u001b[0mLanguage\u001b[0m\u001b[1;33m)\u001b[0m\u001b[1;33m:\u001b[0m \u001b[0mThe\u001b[0m \u001b[0mloaded\u001b[0m \u001b[0mnlp\u001b[0m \u001b[0mobject\u001b[0m\u001b[1;33m.\u001b[0m\u001b[1;33m\u001b[0m\u001b[1;33m\u001b[0m\u001b[0m\n\u001b[0;32m     50\u001b[0m     \"\"\"\n\u001b[1;32m---> 51\u001b[1;33m     return util.load_model(\n\u001b[0m\u001b[0;32m     52\u001b[0m         \u001b[0mname\u001b[0m\u001b[1;33m,\u001b[0m \u001b[0mvocab\u001b[0m\u001b[1;33m=\u001b[0m\u001b[0mvocab\u001b[0m\u001b[1;33m,\u001b[0m \u001b[0mdisable\u001b[0m\u001b[1;33m=\u001b[0m\u001b[0mdisable\u001b[0m\u001b[1;33m,\u001b[0m \u001b[0mexclude\u001b[0m\u001b[1;33m=\u001b[0m\u001b[0mexclude\u001b[0m\u001b[1;33m,\u001b[0m \u001b[0mconfig\u001b[0m\u001b[1;33m=\u001b[0m\u001b[0mconfig\u001b[0m\u001b[1;33m\u001b[0m\u001b[1;33m\u001b[0m\u001b[0m\n\u001b[0;32m     53\u001b[0m     )\n",
      "\u001b[1;32m~\\anaconda3\\lib\\site-packages\\spacy\\util.py\u001b[0m in \u001b[0;36mload_model\u001b[1;34m(name, vocab, disable, exclude, config)\u001b[0m\n\u001b[0;32m    425\u001b[0m     \u001b[1;32mif\u001b[0m \u001b[0mname\u001b[0m \u001b[1;32min\u001b[0m \u001b[0mOLD_MODEL_SHORTCUTS\u001b[0m\u001b[1;33m:\u001b[0m\u001b[1;33m\u001b[0m\u001b[1;33m\u001b[0m\u001b[0m\n\u001b[0;32m    426\u001b[0m         \u001b[1;32mraise\u001b[0m \u001b[0mIOError\u001b[0m\u001b[1;33m(\u001b[0m\u001b[0mErrors\u001b[0m\u001b[1;33m.\u001b[0m\u001b[0mE941\u001b[0m\u001b[1;33m.\u001b[0m\u001b[0mformat\u001b[0m\u001b[1;33m(\u001b[0m\u001b[0mname\u001b[0m\u001b[1;33m=\u001b[0m\u001b[0mname\u001b[0m\u001b[1;33m,\u001b[0m \u001b[0mfull\u001b[0m\u001b[1;33m=\u001b[0m\u001b[0mOLD_MODEL_SHORTCUTS\u001b[0m\u001b[1;33m[\u001b[0m\u001b[0mname\u001b[0m\u001b[1;33m]\u001b[0m\u001b[1;33m)\u001b[0m\u001b[1;33m)\u001b[0m  \u001b[1;31m# type: ignore[index]\u001b[0m\u001b[1;33m\u001b[0m\u001b[1;33m\u001b[0m\u001b[0m\n\u001b[1;32m--> 427\u001b[1;33m     \u001b[1;32mraise\u001b[0m \u001b[0mIOError\u001b[0m\u001b[1;33m(\u001b[0m\u001b[0mErrors\u001b[0m\u001b[1;33m.\u001b[0m\u001b[0mE050\u001b[0m\u001b[1;33m.\u001b[0m\u001b[0mformat\u001b[0m\u001b[1;33m(\u001b[0m\u001b[0mname\u001b[0m\u001b[1;33m=\u001b[0m\u001b[0mname\u001b[0m\u001b[1;33m)\u001b[0m\u001b[1;33m)\u001b[0m\u001b[1;33m\u001b[0m\u001b[1;33m\u001b[0m\u001b[0m\n\u001b[0m\u001b[0;32m    428\u001b[0m \u001b[1;33m\u001b[0m\u001b[0m\n\u001b[0;32m    429\u001b[0m \u001b[1;33m\u001b[0m\u001b[0m\n",
      "\u001b[1;31mOSError\u001b[0m: [E050] Can't find model 'model-best'. It doesn't seem to be a Python package or a valid path to a data directory."
     ]
    }
   ],
   "source": [
    "nlp_ner = spacy.load(\"model-best\")"
   ]
  },
  {
   "cell_type": "code",
   "execution_count": null,
   "id": "6ce82668",
   "metadata": {},
   "outputs": [],
   "source": []
  },
  {
   "cell_type": "code",
   "execution_count": 46,
   "id": "3cfc2c7f",
   "metadata": {},
   "outputs": [
    {
     "name": "stdout",
     "output_type": "stream",
     "text": [
      "LAUNGUAGES SPOKEN             -CAREER\n",
      "COLLEGE NAME                  -SRKR ENGINEERING COLLEGE\n",
      "DEGREE                        -B.Tech in Mechanical Engineering\n",
      "CGPA                          -CGPA of 8.54 (up to sem-7)\n",
      "COLLEGE NAME                  -JUNIOR COLLEGE Intermediate | 2016-2018\n",
      "CERTIFICATIONS                -SCHOOL 10th class | 2016\n",
      "SKILLS                        -Linear Regression\n",
      "SKILLS                        -Logistic Regression\n",
      "PROJECTS                      -Decision Tree Classifier\n",
      "SKILLS                        -Statistics\n",
      "SKILLS                        -POSITION OF RESPONSIBILITIES\n",
      "NAME                          -FOR\n",
      "DEGREE                        -(ISTE)\n",
      "COLLEGE NAME                  -SRKR ISTE for the year 2020- 2021.\n",
      "WORK EXPERIENCE               -FOR ENERGY CONSUMPTION OF STEEL PLANT\n",
      "DESIGNATION                   -TELECOM CHURN DATASET\n",
      "CERTIFICATIONS                -Identified optimal threshold with graph between recall and precision.\n",
      "MOBILE                        -PERSONAL\n",
      "SKILLS                        -Numpy\n",
      "SKILLS                        -Pandas\n",
      "SKILLS                        -Matplotlib\n",
      "SKILLS                        -Plotly\n",
      "SKILLS                        -Seaborn\n",
      "SKILLS                        -NLTK\n",
      "SKILLS                        -Spacy\n",
      "SKILLS                        -Sklearn\n",
      "CERTIFICATIONS                -Events organized in association with SRKR ISTE\n",
      "CERTIFICATIONS                -COURSERA certification on Fusion 360 C-PROGRAMMING FOR BEGINNERS Python for Beginners\n",
      "ACHEIVMENTS                   -Selected 2nd in innovation challenge conducted by FUTUREPLUS among 100teams.\n",
      "ACHEIVMENTS                   -Selected for 2nd stage of VISHWAKARMA\n",
      "SKILLS                        -English\n"
     ]
    }
   ],
   "source": [
    "doc=nlp_ner(txt)\n",
    "for ent in doc.ents:\n",
    "    print(f'{ent.label_.upper():{30}}-{ent.text}')"
   ]
  },
  {
   "cell_type": "code",
   "execution_count": 48,
   "id": "357808b3",
   "metadata": {},
   "outputs": [
    {
     "ename": "ValueError",
     "evalue": "[E966] `nlp.add_pipe` now takes the string name of the registered component factory, not a callable component. Expected string, but got <spacy.pipeline.ner.EntityRecognizer object at 0x000001FA6ADDAF20> (name: 'None').\n\n- If you created your component with `nlp.create_pipe('name')`: remove nlp.create_pipe and call `nlp.add_pipe('name')` instead.\n\n- If you passed in a component like `TextCategorizer()`: call `nlp.add_pipe` with the string name instead, e.g. `nlp.add_pipe('textcat')`.\n\n- If you're using a custom component: Add the decorator `@Language.component` (for function components) or `@Language.factory` (for class components / factories) to your custom component and assign it a name, e.g. `@Language.component('your_name')`. You can then run `nlp.add_pipe('your_name')` to add it to the pipeline.",
     "output_type": "error",
     "traceback": [
      "\u001b[1;31m---------------------------------------------------------------------------\u001b[0m",
      "\u001b[1;31mValueError\u001b[0m                                Traceback (most recent call last)",
      "\u001b[1;32m~\\AppData\\Local\\Temp/ipykernel_20664/4161756536.py\u001b[0m in \u001b[0;36m<module>\u001b[1;34m\u001b[0m\n\u001b[1;32m----> 1\u001b[1;33m \u001b[0mtrain_model\u001b[0m\u001b[1;33m(\u001b[0m\u001b[0mans\u001b[0m\u001b[1;33m)\u001b[0m\u001b[1;33m\u001b[0m\u001b[1;33m\u001b[0m\u001b[0m\n\u001b[0m",
      "\u001b[1;32m~\\AppData\\Local\\Temp/ipykernel_20664/2745615002.py\u001b[0m in \u001b[0;36mtrain_model\u001b[1;34m(train_data)\u001b[0m\n\u001b[0;32m      3\u001b[0m     \u001b[1;32mif\u001b[0m \u001b[1;34m'ner'\u001b[0m \u001b[1;32mnot\u001b[0m \u001b[1;32min\u001b[0m \u001b[0mnlp\u001b[0m\u001b[1;33m.\u001b[0m\u001b[0mpipe_names\u001b[0m\u001b[1;33m:\u001b[0m \u001b[1;31m# Adding pipeline\u001b[0m\u001b[1;33m\u001b[0m\u001b[1;33m\u001b[0m\u001b[0m\n\u001b[0;32m      4\u001b[0m         \u001b[0mner\u001b[0m\u001b[1;33m=\u001b[0m\u001b[0mnlp\u001b[0m\u001b[1;33m.\u001b[0m\u001b[0mcreate_pipe\u001b[0m\u001b[1;33m(\u001b[0m\u001b[1;34m'ner'\u001b[0m\u001b[1;33m)\u001b[0m\u001b[1;33m\u001b[0m\u001b[1;33m\u001b[0m\u001b[0m\n\u001b[1;32m----> 5\u001b[1;33m         \u001b[0mnlp\u001b[0m\u001b[1;33m.\u001b[0m\u001b[0madd_pipe\u001b[0m\u001b[1;33m(\u001b[0m\u001b[0mner\u001b[0m\u001b[1;33m,\u001b[0m\u001b[0mlast\u001b[0m\u001b[1;33m=\u001b[0m\u001b[1;32mTrue\u001b[0m\u001b[1;33m)\u001b[0m\u001b[1;33m\u001b[0m\u001b[1;33m\u001b[0m\u001b[0m\n\u001b[0m\u001b[0;32m      6\u001b[0m     \u001b[1;31m#adding the labels to the pipe\u001b[0m\u001b[1;33m\u001b[0m\u001b[1;33m\u001b[0m\u001b[0m\n\u001b[0;32m      7\u001b[0m     \u001b[1;32mfor\u001b[0m \u001b[0m_\u001b[0m\u001b[1;33m,\u001b[0m \u001b[0mannotation\u001b[0m \u001b[1;32min\u001b[0m \u001b[0mtrain_data\u001b[0m\u001b[1;33m:\u001b[0m \u001b[1;31m# train_data=[[text],[entities]]\u001b[0m\u001b[1;33m\u001b[0m\u001b[1;33m\u001b[0m\u001b[0m\n",
      "\u001b[1;32m~\\anaconda3\\lib\\site-packages\\spacy\\language.py\u001b[0m in \u001b[0;36madd_pipe\u001b[1;34m(self, factory_name, name, before, after, first, last, source, config, raw_config, validate)\u001b[0m\n\u001b[0;32m    771\u001b[0m             \u001b[0mbad_val\u001b[0m \u001b[1;33m=\u001b[0m \u001b[0mrepr\u001b[0m\u001b[1;33m(\u001b[0m\u001b[0mfactory_name\u001b[0m\u001b[1;33m)\u001b[0m\u001b[1;33m\u001b[0m\u001b[1;33m\u001b[0m\u001b[0m\n\u001b[0;32m    772\u001b[0m             \u001b[0merr\u001b[0m \u001b[1;33m=\u001b[0m \u001b[0mErrors\u001b[0m\u001b[1;33m.\u001b[0m\u001b[0mE966\u001b[0m\u001b[1;33m.\u001b[0m\u001b[0mformat\u001b[0m\u001b[1;33m(\u001b[0m\u001b[0mcomponent\u001b[0m\u001b[1;33m=\u001b[0m\u001b[0mbad_val\u001b[0m\u001b[1;33m,\u001b[0m \u001b[0mname\u001b[0m\u001b[1;33m=\u001b[0m\u001b[0mname\u001b[0m\u001b[1;33m)\u001b[0m\u001b[1;33m\u001b[0m\u001b[1;33m\u001b[0m\u001b[0m\n\u001b[1;32m--> 773\u001b[1;33m             \u001b[1;32mraise\u001b[0m \u001b[0mValueError\u001b[0m\u001b[1;33m(\u001b[0m\u001b[0merr\u001b[0m\u001b[1;33m)\u001b[0m\u001b[1;33m\u001b[0m\u001b[1;33m\u001b[0m\u001b[0m\n\u001b[0m\u001b[0;32m    774\u001b[0m         \u001b[0mname\u001b[0m \u001b[1;33m=\u001b[0m \u001b[0mname\u001b[0m \u001b[1;32mif\u001b[0m \u001b[0mname\u001b[0m \u001b[1;32mis\u001b[0m \u001b[1;32mnot\u001b[0m \u001b[1;32mNone\u001b[0m \u001b[1;32melse\u001b[0m \u001b[0mfactory_name\u001b[0m\u001b[1;33m\u001b[0m\u001b[1;33m\u001b[0m\u001b[0m\n\u001b[0;32m    775\u001b[0m         \u001b[1;32mif\u001b[0m \u001b[0mname\u001b[0m \u001b[1;32min\u001b[0m \u001b[0mself\u001b[0m\u001b[1;33m.\u001b[0m\u001b[0mcomponent_names\u001b[0m\u001b[1;33m:\u001b[0m\u001b[1;33m\u001b[0m\u001b[1;33m\u001b[0m\u001b[0m\n",
      "\u001b[1;31mValueError\u001b[0m: [E966] `nlp.add_pipe` now takes the string name of the registered component factory, not a callable component. Expected string, but got <spacy.pipeline.ner.EntityRecognizer object at 0x000001FA6ADDAF20> (name: 'None').\n\n- If you created your component with `nlp.create_pipe('name')`: remove nlp.create_pipe and call `nlp.add_pipe('name')` instead.\n\n- If you passed in a component like `TextCategorizer()`: call `nlp.add_pipe` with the string name instead, e.g. `nlp.add_pipe('textcat')`.\n\n- If you're using a custom component: Add the decorator `@Language.component` (for function components) or `@Language.factory` (for class components / factories) to your custom component and assign it a name, e.g. `@Language.component('your_name')`. You can then run `nlp.add_pipe('your_name')` to add it to the pipeline."
     ]
    }
   ],
   "source": [
    "train_model(ans)"
   ]
  },
  {
   "cell_type": "code",
   "execution_count": null,
   "id": "ef2eb88c",
   "metadata": {},
   "outputs": [],
   "source": []
  }
 ],
 "metadata": {
  "kernelspec": {
   "display_name": "Python 3 (ipykernel)",
   "language": "python",
   "name": "python3"
  },
  "language_info": {
   "codemirror_mode": {
    "name": "ipython",
    "version": 3
   },
   "file_extension": ".py",
   "mimetype": "text/x-python",
   "name": "python",
   "nbconvert_exporter": "python",
   "pygments_lexer": "ipython3",
   "version": "3.9.7"
  }
 },
 "nbformat": 4,
 "nbformat_minor": 5
}
